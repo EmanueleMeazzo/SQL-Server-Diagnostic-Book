{
    "metadata": {
        "kernelspec": {
            "name": "SQL",
            "display_name": "SQL",
            "language": "sql"
        },
        "language_info": {
            "name": "sql",
            "version": ""
        }
    },
    "nbformat_minor": 2,
    "nbformat": 4,
    "cells": [
        {
            "cell_type": "markdown",
            "source": [
                "# Quickly Detecting CPU and Memory Pressure On A SQL Server\r\n",
                "## AKA sp_pressure_detector by Erik Darling\r\n",
                "\r\n",
                "Originally blog post: https://www.erikdarlingdata.com/2020/01/quickly-detecting-cpu-and-memory-pressure-on-a-sql-server/\r\n",
                "\r\n",
                "In case you really have CPU and/or memory pressure on your SQL Server, the way to go is to connect using <a href=\"https://brentozar.com/go/dac\">DAC</a>"
            ],
            "metadata": {
                "azdata_cell_guid": "44db273f-6e73-4d00-8c8b-07c9d39837a2"
            }
        },
        {
            "cell_type": "code",
            "source": [
                "    /*CHECK IF THE DAC IS USED*/\r\n",
                "SET NOCOUNT, XACT_ABORT ON;\r\n",
                "SET TRANSACTION ISOLATION LEVEL READ UNCOMMITTED;\r\n",
                "\r\n",
                "/*\r\n",
                "        Copyright (c) 2020 Erik Darling Data \r\n",
                "  \r\n",
                "        https://erikdarlingdata.com/\r\n",
                "  \r\n",
                "        MIT License\r\n",
                "\tPermission is hereby granted, free of charge, to any person obtaining a copy\r\n",
                "\tof this software and associated documentation files (the \"Software\"), to deal\r\n",
                "\tin the Software without restriction, including without limitation the rights\r\n",
                "\tto use, copy, modify, merge, publish, distribute, sublicense, and/or sell\r\n",
                "\tcopies of the Software, and to permit persons to whom the Software is\r\n",
                "\tfurnished to do so, subject to the following conditions:\r\n",
                "\tThe above copyright notice and this permission notice shall be included in all\r\n",
                "\tcopies or substantial portions of the Software.\r\n",
                "\tTHE SOFTWARE IS PROVIDED \"AS IS\", WITHOUT WARRANTY OF ANY KIND, EXPRESS OR\r\n",
                "\tIMPLIED, INCLUDING BUT NOT LIMITED TO THE WARRANTIES OF MERCHANTABILITY,\r\n",
                "\tFITNESS FOR A PARTICULAR PURPOSE AND NONINFRINGEMENT. IN NO EVENT SHALL THE\r\n",
                "\tAUTHORS OR COPYRIGHT HOLDERS BE LIABLE FOR ANY CLAIM, DAMAGES OR OTHER\r\n",
                "\tLIABILITY, WHETHER IN AN ACTION OF CONTRACT, TORT OR OTHERWISE, ARISING FROM,\r\n",
                "\tOUT OF OR IN CONNECTION WITH THE SOFTWARE OR THE USE OR OTHER DEALINGS IN THE\r\n",
                "\tSOFTWARE.\r\n",
                "*/\r\n",
                "\r\n",
                "    /*\r\n",
                "    Check to see if the DAC is enabled.\r\n",
                "    If it's not, give people some helpful information.\r\n",
                "    */\r\n",
                "    IF ( SELECT c.value_in_use\r\n",
                "         FROM sys.configurations AS c\r\n",
                "         WHERE c.name = N'remote admin connections' ) = 0\r\n",
                "    BEGIN\r\n",
                "        SELECT 'This works a lot better on a troublesome server with the DAC enabled' AS message,\r\n",
                "    \t       'EXEC sp_configure ''remote admin connections'', 1; RECONFIGURE;' AS command_to_run,\r\n",
                "    \t       'https://bit.ly/RemoteDAC' AS how_to_use_the_dac;\r\n",
                "    END\r\n",
                "    \r\n",
                "    /*\r\n",
                "    See if someone else is using the DAC.\r\n",
                "    Return some helpful information if they are.\r\n",
                "    */\r\n",
                "    IF EXISTS ( SELECT 1/0\r\n",
                "                FROM sys.endpoints AS ep\r\n",
                "                JOIN sys.dm_exec_sessions AS ses\r\n",
                "                    ON ep.endpoint_id = ses.endpoint_id\r\n",
                "                WHERE ep.name = N'Dedicated Admin Connection'\r\n",
                "                AND   ses.session_id <> @@SPID )\r\n",
                "    BEGIN\r\n",
                "        SELECT 'who stole the dac?' AS dac_thief,\r\n",
                "               ses.session_id,\r\n",
                "               ses.login_time,\r\n",
                "               ses.host_name,\r\n",
                "               ses.program_name,\r\n",
                "               ses.login_name,\r\n",
                "               ses.nt_domain,\r\n",
                "               ses.nt_user_name,\r\n",
                "               ses.status,\r\n",
                "               ses.last_request_start_time,\r\n",
                "               ses.last_request_end_time\r\n",
                "        FROM sys.endpoints AS ep\r\n",
                "        JOIN sys.dm_exec_sessions AS ses\r\n",
                "            ON ep.endpoint_id = ses.endpoint_id\r\n",
                "        WHERE ep.name = 'Dedicated Admin Connection'\r\n",
                "        AND   ses.session_id <> @@SPID;\r\n",
                "    END"
            ],
            "metadata": {
                "azdata_cell_guid": "34b80e3c-a467-4dca-ae3d-aee077f3dbed",
                "tags": [
                    "hide_input"
                ]
            },
            "outputs": [],
            "execution_count": 1
        },
        {
            "cell_type": "code",
            "source": [
                "    /*Memory Grant info*/\r\n",
                "    SELECT      deqmg.session_id,\r\n",
                "                deqmg.request_time,\r\n",
                "                deqmg.grant_time,\r\n",
                "                (deqmg.requested_memory_kb / 1024.) requested_memory_mb,\r\n",
                "                (deqmg.granted_memory_kb / 1024.) granted_memory_mb,\r\n",
                "                (deqmg.ideal_memory_kb / 1024.) ideal_memory_mb,\t\t\r\n",
                "                (deqmg.required_memory_kb / 1024.) required_memory_mb,\r\n",
                "                (deqmg.used_memory_kb / 1024.) used_memory_mb,\r\n",
                "                (deqmg.max_used_memory_kb / 1024.) max_used_memory_mb,\r\n",
                "                deqmg.queue_id,\r\n",
                "                deqmg.wait_order,\r\n",
                "                deqmg.is_next_candidate,\r\n",
                "                (deqmg.wait_time_ms / 1000.) wait_time_s,\r\n",
                "                (waits.wait_duration_ms / 1000.) wait_duration_s,\r\n",
                "                deqmg.dop,\r\n",
                "                waits.wait_type,\r\n",
                "                deqmg.reserved_worker_count,\r\n",
                "                deqmg.used_worker_count,\r\n",
                "\t\tdeqp.query_plan\r\n",
                "    FROM        sys.dm_exec_query_memory_grants AS deqmg\r\n",
                "    OUTER APPLY ( SELECT   TOP (1) *\r\n",
                "                  FROM     sys.dm_os_waiting_tasks AS dowt\r\n",
                "                  WHERE    dowt.session_id = deqmg.session_id\r\n",
                "                  ORDER BY dowt.session_id ) AS waits\r\n",
                "    OUTER APPLY sys.dm_exec_query_plan(deqmg.plan_handle) AS deqp\r\n",
                "    WHERE deqmg.session_id <> @@SPID\r\n",
                "    ORDER BY deqmg.request_time\r\n",
                "    OPTION(MAXDOP 1);"
            ],
            "metadata": {
                "azdata_cell_guid": "2fe446f3-18aa-41ba-9bf5-c4ed28f0971e",
                "tags": [
                    "hide_input"
                ]
            },
            "outputs": [],
            "execution_count": 2
        },
        {
            "cell_type": "code",
            "source": [
                "    /*Resource semaphore info*/\r\n",
                "    SELECT  deqrs.resource_semaphore_id,\r\n",
                "            (deqrs.target_memory_kb / 1024.) target_memory_mb,\r\n",
                "            (deqrs.max_target_memory_kb / 1024.) max_target_memory_mb,\r\n",
                "            (deqrs.total_memory_kb / 1024.) total_memory_mb,\r\n",
                "            (deqrs.available_memory_kb / 1024.) available_memory_mb,\r\n",
                "            (deqrs.granted_memory_kb / 1024.) granted_memory_mb,\r\n",
                "            (deqrs.used_memory_kb / 1024.) used_memory_mb,\r\n",
                "            deqrs.grantee_count,\r\n",
                "            deqrs.waiter_count,\r\n",
                "            deqrs.timeout_error_count,\r\n",
                "            deqrs.forced_grant_count,\r\n",
                "            deqrs.pool_id\r\n",
                "    FROM sys.dm_exec_query_resource_semaphores AS deqrs\r\n",
                "    WHERE deqrs.resource_semaphore_id = 0\r\n",
                "    AND   deqrs.pool_id = 2\r\n",
                "    OPTION(MAXDOP 1);"
            ],
            "metadata": {
                "azdata_cell_guid": "d38b5dbc-f948-43df-886d-42fc90e8ee46",
                "tags": [
                    "hide_input"
                ]
            },
            "outputs": [],
            "execution_count": 3
        },
        {
            "cell_type": "code",
            "source": [
                "    /*Thread usage*/\r\n",
                "    SELECT     MAX(osi.max_workers_count) AS total_threads,\r\n",
                "               SUM(dos.active_workers_count) AS used_threads,\r\n",
                "               MAX(osi.max_workers_count) - SUM(dos.active_workers_count) AS available_threads,\r\n",
                "               SUM(dos.runnable_tasks_count) AS threads_waiting_for_cpu,\r\n",
                "               SUM(dos.work_queue_count) AS requests_waiting_for_threads,\r\n",
                "               SUM(dos.current_workers_count) AS current_workers\r\n",
                "    FROM       sys.dm_os_schedulers AS dos\r\n",
                "    CROSS JOIN sys.dm_os_sys_info AS osi\r\n",
                "    WHERE      dos.status = N'VISIBLE ONLINE'\r\n",
                "    OPTION(MAXDOP 1);"
            ],
            "metadata": {
                "azdata_cell_guid": "b8e104c8-4fd6-4a9a-a027-610c1534248f",
                "tags": [
                    "hide_input"
                ]
            },
            "outputs": [],
            "execution_count": 4
        },
        {
            "cell_type": "code",
            "source": [
                "    /*Any threadpool waits*/\r\n",
                "    SELECT dowt.session_id,\r\n",
                "           dowt.wait_duration_ms,\r\n",
                "           dowt.wait_type\r\n",
                "    FROM sys.dm_os_waiting_tasks AS dowt\r\n",
                "    WHERE dowt.wait_type = N'THREADPOOL'\r\n",
                "    ORDER BY dowt.wait_duration_ms DESC\r\n",
                "    OPTION(MAXDOP 1);"
            ],
            "metadata": {
                "azdata_cell_guid": "d7018f4e-1f1d-4c29-a5ba-a4e31cd5d274",
                "tags": [
                    "hide_input"
                ]
            },
            "outputs": [],
            "execution_count": 5
        },
        {
            "cell_type": "code",
            "source": [
                "    /*Figure out who's using a lot of CPU*/\r\n",
                "    DECLARE @sql NVARCHAR(MAX) = N''\r\n",
                "    DECLARE @cool_new_columns BIT = 0;\r\n",
                "    \r\n",
                "    IF ( SELECT COUNT(*)\r\n",
                "    \t FROM sys.all_columns AS ac \r\n",
                "    \t WHERE OBJECT_NAME(ac.object_id) = N'dm_exec_requests'\r\n",
                "    \t AND ac.name IN (N'dop', N'parallel_worker_count') ) = 2\r\n",
                "    BEGIN\r\n",
                "        SET @cool_new_columns = 1;\r\n",
                "    END\r\n",
                "    \r\n",
                "    SET @sql += N'\r\n",
                "    SET TRANSACTION ISOLATION LEVEL READ UNCOMMITTED;\r\n",
                "    \r\n",
                "    SELECT der.session_id,\r\n",
                "           DB_NAME(der.database_id) AS database_name,\r\n",
                "           der.start_time,\r\n",
                "    \t   SUBSTRING(\r\n",
                "                    dest.text, ( der.statement_start_offset / 2 ) + 1,\r\n",
                "                    (( CASE der.statement_end_offset WHEN -1 THEN DATALENGTH(dest.text) ELSE der.statement_end_offset END\r\n",
                "                       - der.statement_start_offset ) / 2 ) + 1) AS query_text,\r\n",
                "\t   deqp.query_plan,\r\n",
                "           der.status,\r\n",
                "           der.blocking_session_id,\r\n",
                "           der.wait_type,\r\n",
                "           der.wait_time,\r\n",
                "           der.wait_resource,\r\n",
                "           der.cpu_time,\r\n",
                "           der.total_elapsed_time,\r\n",
                "           der.reads,\r\n",
                "           der.writes,\r\n",
                "           der.logical_reads,\r\n",
                "           CASE \r\n",
                "    \t       WHEN der.transaction_isolation_level = 0 THEN ''Unspecified''\r\n",
                "    \t       WHEN der.transaction_isolation_level = 1 THEN ''Read Uncommitted''\r\n",
                "    \t       WHEN der.transaction_isolation_level = 2 AND EXISTS ( SELECT 1/0 FROM sys.dm_tran_active_snapshot_database_transactions AS trn WHERE der.session_id = trn.session_id AND is_snapshot = 0 ) THEN ''Read Committed Snapshot Isolation''\r\n",
                "    \t       WHEN der.transaction_isolation_level = 2 AND NOT EXISTS ( SELECT 1/0 FROM sys.dm_tran_active_snapshot_database_transactions AS trn WHERE der.session_id = trn.session_id AND is_snapshot = 0 ) THEN ''Read Committed''\r\n",
                "    \t       WHEN der.transaction_isolation_level = 3 THEN ''Repeatable Read''\r\n",
                "    \t       WHEN der.transaction_isolation_level = 4 THEN ''Serializable''\r\n",
                "    \t       WHEN der.transaction_isolation_level = 5 THEN ''Snapshot''\r\n",
                "    \t       ELSE ''???''\r\n",
                "    \t   END AS transaction_isolation_level ,\r\n",
                "           der.granted_query_memory'\r\n",
                "    \t   + CASE WHEN @cool_new_columns = 1\r\n",
                "    \t\t  THEN N',\r\n",
                "           der.dop,\r\n",
                "           der.parallel_worker_count'\r\n",
                "    \t          ELSE N''\r\n",
                "    \t     END\r\n",
                "    \t   + N'\r\n",
                "    FROM sys.dm_exec_requests AS der\r\n",
                "    CROSS APPLY sys.dm_exec_sql_text(der.plan_handle) AS dest\r\n",
                "    CROSS APPLY sys.dm_exec_query_plan(der.plan_handle) AS deqp\r\n",
                "    WHERE der.session_id <> @@SPID\r\n",
                "    AND der.session_id >= 50\r\n",
                "    ORDER BY ' + CASE WHEN @cool_new_columns = 1\r\n",
                "    \t\t      THEN N'der.parallel_worker_count DESC\r\n",
                "    \t\t\t     OPTION(MAXDOP 1);'\r\n",
                "    \t              ELSE N'der.cpu_time DESC\r\n",
                "    \t\t\t     OPTION(MAXDOP 1);'\r\n",
                "    \t\t END\r\n",
                "    \r\n",
                "    EXEC sys.sp_executesql @sql;"
            ],
            "metadata": {
                "azdata_cell_guid": "c4431e55-b637-4ae7-bb2b-4351c64e523b",
                "tags": [
                    "hide_input"
                ]
            },
            "outputs": [],
            "execution_count": 6
        }
    ]
}