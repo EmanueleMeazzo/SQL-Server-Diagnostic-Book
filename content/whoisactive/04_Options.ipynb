{
    "metadata": {
        "kernelspec": {
            "name": "SQL",
            "display_name": "SQL",
            "language": "sql"
        },
        "language_info": {
            "name": "sql",
            "version": ""
        }
    },
    "nbformat_minor": 2,
    "nbformat": 4,
    "cells": [
        {
            "cell_type": "markdown",
            "source": [
                "<p><b>What fun would life be without lots of choices?</b></p>\n",
                "  \n",
                "<p>Activity monitoring, like life, is much more fun (and effective) when you can pick and choose from a variety of options. And the opposite is true: a lack of options makes for a dull, ineffective, one-trick solution. Case in point? sp_who and sp_who2 had only <i>one parameter each</i>. The super-dull \"@loginame [sic].\" Yes, those crazy kids at Microsoft left out an \"n,\" but it's not like the parameter was well-named. After all, it wasn't just a filter on a login name; it could also be a SPID, or it could be the word \"active,\" which would make it show all sessions that weren't sleeping (including system sessions). Thanks for the straightforward user experience, Microsoft!</p>\n",
                "  \n",
                "<p>Unlike its predecessors, Who is Active gives you plenty of options with which to work. The procedure has 24 parameters as of the time of this writing; here they are, with their default values:</p>\n",
                "  \n",
                "<blockquote>   \n",
                "<p><font face=\"Courier New\">@filter sysname = ''       <br>@filter_type VARCHAR(10) = 'session'        <br>@not_filter sysname = ''        <br>@not_filter_type VARCHAR(10) = 'session'        <br>@show_own_spid BIT = 0        <br>@show_system_spids BIT = 0        <br>@show_sleeping_spids TINYINT = 1        <br>@get_full_inner_text BIT = 0        <br>@get_plans TINYINT = 0        <br>@get_outer_command BIT = 0        <br>@get_transaction_info BIT = 0        <br>@get_task_info TINYINT = 1        <br>@get_locks BIT = 0        <br>@get_avg_time BIT = 0        <br>@get_additional_info BIT = 0        <br>@find_block_leaders BIT = 0        <br>@delta_interval TINYINT = 0        <br>@output_column_list VARCHAR(8000) = '[dd%][session_id][sql_text][sql_command][login_name][wait_info][tasks][tran_log%][cpu%][temp%][block%][reads%][writes%][context%][physical%][query_plan][locks][%]'        <br>@sort_order VARCHAR(500) = '[start_time] ASC'        <br>@format_output TINYINT = 1        <br>@destination_table VARCHAR(4000) = ''        <br>@return_schema BIT = 0        <br>@schema VARCHAR(MAX) = NULL OUTPUT        <br>@help BIT = 0</font></p>\n",
                " </blockquote>\n",
                "  \n",
                "<p>I could write a few sentences about each option, but I've already done that. You can find short descriptions in the comment header I've included with Who is Active. But I don't want you to have to print that out, and neither should you be expected to memorize 24 parameters (at least, not right away). Instead of doing either of those things, <b>focus your attention on the most important parameter of all: the last one</b>. </p>\n",
                "  \n",
                "<p>@help, when set to 1, causes the procedure to return the same text found in the comment header, nicely formatted (well, sort of) in the SSMS results pane. Like this:   <br></p>\n",
                "  \n",
                "![F6_01_help](img/F6_01_help.jpg)\n",
                "  \n",
                "<p>There are two results in the output: the first contains information about all of the available input parameters; the second contains information about all of the output columns.</p>\n",
                "  \n",
                "<p>Once you understand the options fairly well, you can use the help in another way, to set up your own custom script to call Who is Active. Select the first column (click the header that says “parameter”), and use CTRL-C and CTRL-V to copy and paste the text into a new window. Add a call to Who is Active, remove a few lines, pop in a few commas, and you’ll have something like this:</p>\n",
                "  "
            ],
            "metadata": {
                "azdata_cell_guid": "7cc6d527-015f-489a-84a5-2e9454f24f22"
            }
        },
        {
            "cell_type": "code",
            "source": [
                "EXEC sp_WhoIsActive\r\n",
                "    @filter = '',\r\n",
                "    @filter_type = 'session',\r\n",
                "    @not_filter = '',\r\n",
                "    @not_filter_type = 'session',\r\n",
                "    @show_own_spid = 0,\r\n",
                "    @show_system_spids = 0,\r\n",
                "    @show_sleeping_spids = 1,\r\n",
                "    @get_full_inner_text = 0,\r\n",
                "    @get_plans = 0,\r\n",
                "    @get_outer_command = 0,\r\n",
                "    @get_transaction_info = 0,\r\n",
                "    @get_task_info = 1,\r\n",
                "    @get_locks = 0,\r\n",
                "    @get_avg_time = 0,\r\n",
                "    @get_additional_info = 0,\r\n",
                "    @find_block_leaders = 0,\r\n",
                "    @delta_interval = 0,\r\n",
                "    @output_column_list = '[dd%][session_id][sql_text][sql_command][login_name][wait_info][tasks][tran_log%][cpu%][temp%][block%][reads%][writes%][context%][physical%][query_plan][locks][%]',\r\n",
                "    @sort_order = '[start_time] ASC',\r\n",
                "    @format_output = 1,\r\n",
                "    @destination_table = '',\r\n",
                "    @return_schema = 0,\r\n",
                "    @schema = NULL,\r\n",
                "    @help = 0"
            ],
            "metadata": {
                "azdata_cell_guid": "0a034eb9-de38-4e1c-a092-efb662fcade8"
            },
            "outputs": [],
            "execution_count": 0
        },
        {
            "cell_type": "markdown",
            "source": [
                "\r\n",
                "    \r\n",
                "<p>Save this to a script, and you’ll be able to easily and quickly call the procedure using any of the parameter combinations you like, without having to type them all in every time. <b>It’s almost like intellisense that actually works!</b></p>"
            ],
            "metadata": {
                "azdata_cell_guid": "8d1138be-61c8-4b13-860f-583a7d8747b4"
            }
        }
    ]
}