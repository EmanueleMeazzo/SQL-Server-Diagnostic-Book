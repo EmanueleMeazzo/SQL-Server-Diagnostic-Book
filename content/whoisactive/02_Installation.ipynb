{
    "metadata": {
        "kernelspec": {
            "name": "SQL",
            "display_name": "SQL",
            "language": "sql"
        },
        "language_info": {
            "name": "sql",
            "version": ""
        }
    },
    "nbformat_minor": 2,
    "nbformat": 4,
    "cells": [
        {
            "cell_type": "markdown",
            "source": [
                "# Installation\r\n",
                "An entire post on installation? Isn’t Who is Active just a stored procedure..?  <br>  \r\n",
                "<p>Well, yes. And yes. It might be as easy as <a mce_href=\"/downloads\" href=\"/downloads\">downloading the .ZIP file</a>, unzipping it, opening the .SQL file in Management Studio, and hitting F5 or CTRL-E.</p>\r\n",
                "  \r\n",
                "<p>But if you’re like some of the people who’ve e-mailed me over the past few years, you may have some questions...</p>\r\n",
                "  \r\n",
                "<p>&nbsp; <br><b><u>What Permissions Are Required?</u></b></p>\r\n",
                "  \r\n",
                "<p>Most of what Who is Active does requires <b>VIEW SERVER STATE</b> permission. This is a permission level that allows access to the various instance-global DMVs, including the request, session, and transaction related views. In most cases there is no reason to avoid granting this privilege to a user; the main concern is situations where a user might be able to harvest private information by looking at SQL text, especially when it is non-parameterized. These cases being quite few and far between, I consider this to be a relatively low barrier to entry.</p>\r\n",
                "  \r\n",
                "<p>Beyond VIEW SERVER STATE, various other <b>Who is Active features may require access to specific databases</b>. The most important of these features are locks collection and blocked object name resolution (both of which will be covered in a subsequent post). When these are used, the stored procedure will attempt to access the database in which the lock or blocking is occurring, in order to resolve the affected object names. If the user calling Who is Active does not have sufficient privileges in the database, Who is Active will collect the error message and report it instead of the object name.</p>\r\n",
                "  \r\n",
                "<p>&nbsp; <br>&nbsp;</p>\r\n",
                "  \r\n",
                "<p><b><u>Which Database Should I Put it In?</u></b></p>\r\n",
                "  \r\n",
                "<p>The stored procedure is named “sp_WhoIsActive” for a reason: It’s designed to live in the <i>master</i> database; the “sp_” prefix, as you’re probably aware, allows a stored procedure in <i>master</i> to be called from the context of any database on the instance.</p>\r\n",
                "  \r\n",
                "<p>I know that many DBAs like to keep all of the DBA scripts in a special-purpose DBA database. Who is Active will work fine from there. But really, it’s much nicer to keep it in <i>master</i>. <b>Never underestimate the power of convenience.</b></p>\r\n",
                "  \r\n",
                "<p>&nbsp; <br>&nbsp;</p>\r\n",
                "  \r\n",
                "<p><b><u>Help! It Keeps Throwing the Error: “Incorrect syntax near '.'”</u></b></p>\r\n",
                "  \r\n",
                "<p>It’s amazing how many times people have written and asked me about this particular error. Not because it’s obvious what’s going on, but because of what it means: You’ve upgraded to SQL Server 2005 or SQL Server 2008 from SQL Server 2000, and <b>you haven’t updated the database compatibility level</b>. This error is thrown when a database in SQL Server 2000 compatibility mode encounters a common table expression. It’s not pretty, and it doesn’t need to happen.</p>\r\n",
                "  \r\n",
                "<p>Stop reading this right now and go run the following query against your production SQL Server 2005 or 2008 instances:</p>\r\n",
                "  \r\n",
                ""
            ],
            "metadata": {
                "azdata_cell_guid": "0be042ad-c081-44f1-97ed-bb6653fa5e72"
            }
        },
        {
            "cell_type": "code",
            "source": [
                "SELECT *\n",
                "FROM sys.databases\n",
                "WHERE compatibility_level < 100"
            ],
            "metadata": {
                "azdata_cell_guid": "0d3b9a25-df54-4d55-8f97-5623e76bbae3"
            },
            "outputs": [],
            "execution_count": 0
        },
        {
            "cell_type": "markdown",
            "source": [
                "<p>If any rows are returned, think long and hard about why that database needs to be set so as to make your life more difficult. And then update the compatibility level to something that makes sense in 2011, not 1998.</p>\n",
                "  \n",
                "<p><b><u>Help! It’s Throwing Some Other Error!</u></b></p>\n",
                "  \n",
                "<p>If Who is Active is throwing some error aside from the one above, and it’s not a permissions-related issue, then it’s probably my fault. Leave me a comment here, write me an e-mail, or <a mce_href=\"https://twitter.com/#!/adammachanic\" href=\"https://twitter.com/#!/adammachanic\">find me on Twitter</a>. <b>Please do one of these things so that I can start working on the problem</b>. If there is a problem, I want to fix it. And trust me when I say that I take problems with Who is Active very seriously. Most of the features and bug fixes are the result of users telling me what does and does not work for them. I can’t stress enough how much I enjoy both getting, and acting on, your feedback.</p>"
            ],
            "metadata": {
                "azdata_cell_guid": "32e2c5cb-2e7c-4d86-bf6b-39974d6e68cd"
            }
        }
    ]
}