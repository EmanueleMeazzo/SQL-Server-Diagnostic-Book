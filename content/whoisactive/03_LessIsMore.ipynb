{
    "metadata": {
        "kernelspec": {
            "name": "SQL",
            "display_name": "SQL",
            "language": "sql"
        },
        "language_info": {
            "name": "sql",
            "version": ""
        }
    },
    "nbformat_minor": 2,
    "nbformat": 4,
    "cells": [
        {
            "cell_type": "markdown",
            "source": [
                "<p><b>You’ve downloaded Who is Active for the first time. </b></p>\n",
                "  \n",
                "<p>You’ve unzipped it. </p>\n",
                "  \n",
                "<p>You’ve taken a quick peek through the code to make sure I didn’t send you a rejuvenated version of Slammer.</p>\n",
                "  \n",
                "<p><b>You’ve installed it on a test server</b> so that you can make sure it won’t take down your production environment. (Always a good idea.)</p>\n",
                "  \n",
                "<p>And now, the moment of truth arrives. You fire up SSMS and—hands ever-so-slightly shaking, breath held, body quaking with anticipation—you type the following:</p>\n",
                "  \n",
                "<blockquote>   \n",
                "<p><font face=\"Courier New\">EXEC sp_WhoIsActive</font></p>\n",
                " </blockquote>\n",
                "  \n",
                "<p>Your hand slowly approaches the F5 key. Your heart racing, you slowly depress the plastic square and...</p>\n",
                "\n",
                "![F5_01_blank](img/F5_01_blank.jpg)\n",
                "<p><b>Nothing at all. Where are the results? Is this thing broken? Um, hello?!</b></p>\n",
                "  \n",
                "<p>&nbsp;</p>\n",
                "  \n",
                "<p>Unfortunately, this is apparently a common scenario for new Who is Active users. (The empty result set. The rest? Well, who knows.) I have received many e-mails and blog comments from people asking why this large, complex stored procedure they’ve just downloaded doesn’t seem to actually <i>do</i> anything when they run it.</p>\n",
                "  \n",
                "<p>The answer is simple: <b>It didn’t show you any information because there was nothing interesting to show you. </b>Unlike sp_who, sp_who2, and most of their brethren, Who is Active—by default—only shows you the sessions that you’re likely to want to see. If you installed it on a test server, or your laptop, or some other non-production machine, you’re probably not going to see any output in the default mode because there is nothing to show you. There are no active requests, and no one has started a transaction and left it sitting around waiting for Who is Active to drop by and monitor. <b>The lack of output in this case is a good thing. </b>It means that you don’t have to waste your time trying to find the meaningful information in a sea of worthless data. <a href=\"/docs/02_design\">I explained this previously in the article on design philosophy.</a></p>\n",
                "  \n",
                "<p>&nbsp;</p>\n",
                "  \n",
                "<p><b><u>Seeing More Data – The Basics</u></b></p>\n",
                "  \n",
                "<p>Sometimes you actually do want to see all of the data that Who is Active hides by default. One such time is when you’ve first installed Who is Active and want to get comfortable with it. No problem; if you’d like it to return one row for every session (and more than one row for some sessions, if they’re using Multiple Active Result Sets), you have to work with three options:</p>\n",
                "  \n",
                "<blockquote>   \n",
                "<p><font face=\"Courier New\">EXEC sp_WhoIsActive       <br>&nbsp;&nbsp;&nbsp; @show_sleeping_spids = 2,        <br>&nbsp;&nbsp;&nbsp; @show_system_spids = 1,        <br>&nbsp;&nbsp;&nbsp; @show_own_spid = 1</font></p>\n",
                " </blockquote>\n",
                "  \n",
                "<p>Once you’ve done that, the output will look much closer to what you’re probably used to seeing.</p>\n",
                "  \n",
                "![F5_02_nonblank_thumb](img/F5_02_nonblank_thumb.jpg)\n",
                "  \n",
                "<p>The three options shown above will be covered in detail in a future post, but in brief, here’s what we’ve done:</p>\n",
                "  \n",
                "<ul>   \n",
                "<li>Changed the default mode from showing only active requests and/or sessions with open transactions to showing all connected sessions</li>\n",
                "    \n",
                "<li>Changed the default mode from hiding system sessions (even if they fall into the above category) to showing system sessions</li>\n",
                "    \n",
                "<li>Changed the default mode from hiding your own session—the one calling Who is Active—to showing it along with the rest of the output</li>\n",
                " </ul>\n",
                "  \n",
                "<p><b>Many people are uncomfortable, at first, with how little output they see when they run Who is Active</b>. My recommendation: Try to let go of the need to see <i>everything</i> that’s connected to your SQL Server instances. There’s simply not enough time in the day to bother with that level of detail. </p>\n",
                "        <hr />"
            ],
            "metadata": {
                "azdata_cell_guid": "2c945812-5939-4364-aeaf-ab9a4be435ed"
            }
        }
    ]
}