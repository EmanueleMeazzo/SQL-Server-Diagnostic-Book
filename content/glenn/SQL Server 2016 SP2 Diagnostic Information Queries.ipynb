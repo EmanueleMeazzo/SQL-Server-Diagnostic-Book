    {
        "metadata": {
            "kernelspec": {
                "name": "SQL",
                "display_name": "SQL",
                "language": "sql"
            },
            "language_info": {
                "name": "sql",
                "version": ""
            }
        },
        "nbformat_minor": 2,
        "nbformat": 4,
        "cells":
[
  {
    "cell_type": "markdown",
    "source": "# SQL Server 2016 SP2 Diagnostic Information Queries"
  },
  {
    "cell_type": "markdown",
    "source": "## Version Info\n\nSQL and OS Version information for current instance "
  },
  {
    "cell_type": "code",
    "source": "SELECT @@SERVERNAME AS [Server Name], @@VERSION AS [SQL Server and OS Version Info];\n"
  },
  {
    "cell_type": "markdown",
    "source": "## Core Counts\n\nGet socket, physical core and logical core count from the SQL Server Error log."
  },
  {
    "cell_type": "code",
    "source": "EXEC sys.xp_readerrorlog 0, 1, N'detected', N'socket';\n"
  },
  {
    "cell_type": "markdown",
    "source": "## Server Properties\n\nGet selected server properties"
  },
  {
    "cell_type": "code",
    "source": "SELECT SERVERPROPERTY('MachineName') AS [MachineName], \nSERVERPROPERTY('ServerName') AS [ServerName],  \nSERVERPROPERTY('InstanceName') AS [Instance], \nSERVERPROPERTY('IsClustered') AS [IsClustered], \nSERVERPROPERTY('ComputerNamePhysicalNetBIOS') AS [ComputerNamePhysicalNetBIOS], \nSERVERPROPERTY('Edition') AS [Edition], \nSERVERPROPERTY('ProductLevel') AS [ProductLevel],\t\t\t\t-- What servicing branch (RTM/SP/CU)\nSERVERPROPERTY('ProductUpdateLevel') AS [ProductUpdateLevel],\t-- Within a servicing branch, what CU# is applied\nSERVERPROPERTY('ProductVersion') AS [ProductVersion],\nSERVERPROPERTY('ProductMajorVersion') AS [ProductMajorVersion], \nSERVERPROPERTY('ProductMinorVersion') AS [ProductMinorVersion], \nSERVERPROPERTY('ProductBuild') AS [ProductBuild], \nSERVERPROPERTY('ProductBuildType') AS [ProductBuildType],\t\t\t  -- Is this a GDR or OD hotfix (NULL if on a CU build)\nSERVERPROPERTY('ProductUpdateReference') AS [ProductUpdateReference], -- KB article number that is applicable for this build\nSERVERPROPERTY('ProcessID') AS [ProcessID],\nSERVERPROPERTY('Collation') AS [Collation], \nSERVERPROPERTY('IsFullTextInstalled') AS [IsFullTextInstalled], \nSERVERPROPERTY('IsIntegratedSecurityOnly') AS [IsIntegratedSecurityOnly],\nSERVERPROPERTY('FilestreamConfiguredLevel') AS [FilestreamConfiguredLevel],\nSERVERPROPERTY('IsHadrEnabled') AS [IsHadrEnabled], \nSERVERPROPERTY('HadrManagerStatus') AS [HadrManagerStatus],\nSERVERPROPERTY('InstanceDefaultDataPath') AS [InstanceDefaultDataPath],\nSERVERPROPERTY('InstanceDefaultLogPath') AS [InstanceDefaultLogPath],\nSERVERPROPERTY('BuildClrVersion') AS [Build CLR Version],\nSERVERPROPERTY('IsXTPSupported') AS [IsXTPSupported],\nSERVERPROPERTY('IsPolybaseInstalled') AS [IsPolybaseInstalled],\t\t\t\t-- New for SQL Server 2016\nSERVERPROPERTY('IsAdvancedAnalyticsInstalled') AS [IsRServicesInstalled];\t-- New for SQL Server 2016\n"
  },
  {
    "cell_type": "markdown",
    "source": "## Configuration Values\n\nGet instance-level configuration values for instance "
  },
  {
    "cell_type": "code",
    "source": "SELECT name, value, value_in_use, minimum, maximum, [description], is_dynamic, is_advanced\nFROM sys.configurations WITH (NOLOCK)\nORDER BY name OPTION (RECOMPILE);\n"
  },
  {
    "cell_type": "markdown",
    "source": "## Global Trace Flags\n\nReturns a list of all global trace flags that are enabled"
  },
  {
    "cell_type": "code",
    "source": "DBCC TRACESTATUS (-1);\n"
  },
  {
    "cell_type": "markdown",
    "source": "## Process Memory\n\nSQL Server Process Address space info "
  },
  {
    "cell_type": "code",
    "source": "SELECT physical_memory_in_use_kb/1024 AS [SQL Server Memory Usage (MB)],\n\t   locked_page_allocations_kb/1024 AS [SQL Server Locked Pages Allocation (MB)],\n       large_page_allocations_kb/1024 AS [SQL Server Large Pages Allocation (MB)], \n\t   page_fault_count, memory_utilization_percentage, available_commit_limit_kb, \n\t   process_physical_memory_low, process_virtual_memory_low\nFROM sys.dm_os_process_memory WITH (NOLOCK) OPTION (RECOMPILE);\n"
  },
  {
    "cell_type": "markdown",
    "source": "## SQL Server Services Info\n\nSQL Server Services information"
  },
  {
    "cell_type": "code",
    "source": "SELECT servicename, process_id, startup_type_desc, status_desc, \nlast_startup_time, service_account, is_clustered, cluster_nodename, [filename], \ninstant_file_initialization_enabled \nFROM sys.dm_server_services WITH (NOLOCK) OPTION (RECOMPILE);\n"
  },
  {
    "cell_type": "markdown",
    "source": "## Last Backup By Database\n\nLast backup information by database "
  },
  {
    "cell_type": "code",
    "source": "SELECT ISNULL(d.[name], bs.[database_name]) AS [Database], d.recovery_model_desc AS [Recovery Model], \n       d.log_reuse_wait_desc AS [Log Reuse Wait Desc],\n    MAX(CASE WHEN [type] = 'D' THEN bs.backup_finish_date ELSE NULL END) AS [Last Full Backup],\n    MAX(CASE WHEN [type] = 'I' THEN bs.backup_finish_date ELSE NULL END) AS [Last Differential Backup],\n    MAX(CASE WHEN [type] = 'L' THEN bs.backup_finish_date ELSE NULL END) AS [Last Log Backup]\nFROM sys.databases AS d WITH (NOLOCK)\nLEFT OUTER JOIN msdb.dbo.backupset AS bs WITH (NOLOCK)\nON bs.[database_name] = d.[name] \nAND bs.backup_finish_date > GETDATE()- 30\nWHERE d.name <> N'tempdb'\nGROUP BY ISNULL(d.[name], bs.[database_name]), d.recovery_model_desc, d.log_reuse_wait_desc, d.[name] \nORDER BY d.recovery_model_desc, d.[name] OPTION (RECOMPILE);\n"
  },
  {
    "cell_type": "markdown",
    "source": "## SQL Server Agent Jobs\n\nGet SQL Server Agent jobs and Category information"
  },
  {
    "cell_type": "code",
    "source": "SELECT sj.name AS [Job Name], sj.[description] AS [Job Description], SUSER_SNAME(sj.owner_sid) AS [Job Owner],\nsj.date_created AS [Date Created], sj.[enabled] AS [Job Enabled], \nsj.notify_email_operator_id, sj.notify_level_email, sc.name AS [CategoryName],\ns.[enabled] AS [Sched Enabled], js.next_run_date, js.next_run_time\nFROM msdb.dbo.sysjobs AS sj WITH (NOLOCK)\nINNER JOIN msdb.dbo.syscategories AS sc WITH (NOLOCK)\nON sj.category_id = sc.category_id\nLEFT OUTER JOIN msdb.dbo.sysjobschedules AS js WITH (NOLOCK)\nON sj.job_id = js.job_id\nLEFT OUTER JOIN msdb.dbo.sysschedules AS s WITH (NOLOCK)\nON js.schedule_id = s.schedule_id\nORDER BY sj.name OPTION (RECOMPILE);\n"
  },
  {
    "cell_type": "markdown",
    "source": "## SQL Server Agent Alerts\n\nGet SQL Server Agent Alert Information"
  },
  {
    "cell_type": "code",
    "source": "SELECT name, event_source, message_id, severity, [enabled], has_notification, \n       delay_between_responses, occurrence_count, last_occurrence_date, last_occurrence_time\nFROM msdb.dbo.sysalerts WITH (NOLOCK)\nORDER BY name OPTION (RECOMPILE);\n"
  },
  {
    "cell_type": "markdown",
    "source": "## Windows Info\n\nWindows information"
  },
  {
    "cell_type": "code",
    "source": "SELECT windows_release, windows_service_pack_level, \n       windows_sku, os_language_version\nFROM sys.dm_os_windows_info WITH (NOLOCK) OPTION (RECOMPILE);\n"
  },
  {
    "cell_type": "markdown",
    "source": "## SQL Server NUMA Info\n\nSQL Server NUMA Node information "
  },
  {
    "cell_type": "code",
    "source": "SELECT node_id, node_state_desc, memory_node_id, processor_group, cpu_count, online_scheduler_count, \n       idle_scheduler_count, active_worker_count, avg_load_balance, resource_monitor_state\nFROM sys.dm_os_nodes WITH (NOLOCK) \nWHERE node_state_desc <> N'ONLINE DAC' OPTION (RECOMPILE);\n"
  },
  {
    "cell_type": "markdown",
    "source": "## System Memory\n\nGood basic information about OS memory amounts and state "
  },
  {
    "cell_type": "code",
    "source": "SELECT total_physical_memory_kb/1024 AS [Physical Memory (MB)], \n       available_physical_memory_kb/1024 AS [Available Memory (MB)], \n       total_page_file_kb/1024 AS [Page File Commit Limit (MB)],\n\t   total_page_file_kb/1024 - total_physical_memory_kb/1024 AS [Physical Page File Size (MB)],\n\t   available_page_file_kb/1024 AS [Available Page File (MB)], \n\t   system_cache_kb/1024 AS [System Cache (MB)],\n       system_memory_state_desc AS [System Memory State]\nFROM sys.dm_os_sys_memory WITH (NOLOCK) OPTION (RECOMPILE);\n"
  },
  {
    "cell_type": "markdown",
    "source": "## Cluster Node Properties\n\nGet information about your cluster nodes and their status "
  },
  {
    "cell_type": "code",
    "source": "SELECT NodeName, status_description, is_current_owner\nFROM sys.dm_os_cluster_nodes WITH (NOLOCK) OPTION (RECOMPILE);\n"
  },
  {
    "cell_type": "markdown",
    "source": "## AlwaysOn AG Cluster\n\nGet information about any AlwaysOn AG cluster this instance is a part of"
  },
  {
    "cell_type": "code",
    "source": "SELECT cluster_name, quorum_type_desc, quorum_state_desc\nFROM sys.dm_hadr_cluster WITH (NOLOCK) OPTION (RECOMPILE);\n"
  },
  {
    "cell_type": "markdown",
    "source": "## AlwaysOn AG Status\n\nGood overview of AG health and status"
  },
  {
    "cell_type": "code",
    "source": "SELECT ag.name AS [AG Name], ar.replica_server_name, ar.availability_mode_desc, adc.[database_name], \n       drs.is_local, drs.is_primary_replica, drs.synchronization_state_desc, drs.is_commit_participant, \n\t   drs.synchronization_health_desc, drs.recovery_lsn, drs.truncation_lsn, drs.last_sent_lsn, \n\t   drs.last_sent_time, drs.last_received_lsn, drs.last_received_time, drs.last_hardened_lsn, \n\t   drs.last_hardened_time, drs.last_redone_lsn, drs.last_redone_time, drs.log_send_queue_size, \n\t   drs.log_send_rate, drs.redo_queue_size, drs.redo_rate, drs.filestream_send_rate, \n\t   drs.end_of_log_lsn, drs.last_commit_lsn, drs.last_commit_time, drs.database_state_desc \nFROM sys.dm_hadr_database_replica_states AS drs WITH (NOLOCK)\nINNER JOIN sys.availability_databases_cluster AS adc WITH (NOLOCK)\nON drs.group_id = adc.group_id \nAND drs.group_database_id = adc.group_database_id\nINNER JOIN sys.availability_groups AS ag WITH (NOLOCK)\nON ag.group_id = drs.group_id\nINNER JOIN sys.availability_replicas AS ar WITH (NOLOCK)\nON drs.group_id = ar.group_id \nAND drs.replica_id = ar.replica_id\nORDER BY ag.name, ar.replica_server_name, adc.[database_name] OPTION (RECOMPILE);\n"
  },
  {
    "cell_type": "markdown",
    "source": "## Hardware Info\n\nHardware information from SQL Server 2016 SP2 "
  },
  {
    "cell_type": "code",
    "source": "SELECT cpu_count AS [Logical CPU Count], scheduler_count, \n       (socket_count * cores_per_socket) AS [Physical Core Count], \n       socket_count AS [Socket Count], cores_per_socket, numa_node_count,\n       physical_memory_kb/1024 AS [Physical Memory (MB)], \n       max_workers_count AS [Max Workers Count], \n\t   affinity_type_desc AS [Affinity Type], \n       sqlserver_start_time AS [SQL Server Start Time],\n\t   DATEDIFF(hour, sqlserver_start_time, GETDATE()) AS [SQL Server Up Time (hrs)],\n\t   virtual_machine_type_desc AS [Virtual Machine Type], \n       softnuma_configuration_desc AS [Soft NUMA Configuration], \n\t   sql_memory_model_desc\nFROM sys.dm_os_sys_info WITH (NOLOCK) OPTION (RECOMPILE);\n"
  },
  {
    "cell_type": "markdown",
    "source": "## System Manufacturer\n\nGet System Manufacturer and model number from SQL Server Error log"
  },
  {
    "cell_type": "code",
    "source": "EXEC sys.xp_readerrorlog 0, 1, N'Manufacturer';\n"
  },
  {
    "cell_type": "markdown",
    "source": "## PVSCSI Driver Parameters\n\nGet pvscsi info from Windows Registry "
  },
  {
    "cell_type": "code",
    "source": "EXEC sys.xp_instance_regread N'HKEY_LOCAL_MACHINE', N'SYSTEM\\CurrentControlSet\\services\\pvscsi\\Parameters\\Device', N'DriverParameter';\n"
  },
  {
    "cell_type": "markdown",
    "source": "## BIOS Date\n\nGet BIOS date from Windows Registry"
  },
  {
    "cell_type": "code",
    "source": "EXEC sys.xp_instance_regread N'HKEY_LOCAL_MACHINE', N'HARDWARE\\DESCRIPTION\\System\\BIOS', N'BiosReleaseDate';\n"
  },
  {
    "cell_type": "markdown",
    "source": "## Processor Description\n\nGet processor description from Windows Registry "
  },
  {
    "cell_type": "code",
    "source": "EXEC sys.xp_instance_regread N'HKEY_LOCAL_MACHINE', N'HARDWARE\\DESCRIPTION\\System\\CentralProcessor\\0', N'ProcessorNameString';\n"
  },
  {
    "cell_type": "markdown",
    "source": "## Memory Dump Info\n\nGet information on location, time and size of any memory dumps from SQL Server "
  },
  {
    "cell_type": "code",
    "source": "SELECT [filename], creation_time, size_in_bytes/1048576.0 AS [Size (MB)]\nFROM sys.dm_server_memory_dumps WITH (NOLOCK) \nORDER BY creation_time DESC OPTION (RECOMPILE);\n"
  },
  {
    "cell_type": "markdown",
    "source": "## Suspect Pages\n\nLook at Suspect Pages table"
  },
  {
    "cell_type": "code",
    "source": "SELECT DB_NAME(database_id) AS [Database Name], [file_id], page_id, \n       event_type, error_count, last_update_date \nFROM msdb.dbo.suspect_pages WITH (NOLOCK)\nORDER BY database_id OPTION (RECOMPILE);\n"
  },
  {
    "cell_type": "markdown",
    "source": "## TempDB Data Files\n\nGet number of data files in tempdb database"
  },
  {
    "cell_type": "code",
    "source": "EXEC sys.xp_readerrorlog 0, 1, N'The tempdb database has';\n"
  },
  {
    "cell_type": "markdown",
    "source": "## Database Filenames and Paths\n\nFile names and paths for all user and system databases on instance "
  },
  {
    "cell_type": "code",
    "source": "SELECT DB_NAME([database_id]) AS [Database Name], \n       [file_id], [name], physical_name, [type_desc], state_desc,\n\t   is_percent_growth, growth, \n\t   CONVERT(bigint, growth/128.0) AS [Growth in MB], \n       CONVERT(bigint, size/128.0) AS [Total Size in MB], max_size\nFROM sys.master_files WITH (NOLOCK)\nORDER BY DB_NAME([database_id]), [file_id] OPTION (RECOMPILE);\n"
  },
  {
    "cell_type": "markdown",
    "source": "## Volume Info\n\nVolume info for all LUNS that have database files on the current instance"
  },
  {
    "cell_type": "code",
    "source": "SELECT DISTINCT vs.volume_mount_point, vs.file_system_type, vs.logical_volume_name, \nCONVERT(DECIMAL(18,2), vs.total_bytes/1073741824.0) AS [Total Size (GB)],\nCONVERT(DECIMAL(18,2), vs.available_bytes/1073741824.0) AS [Available Size (GB)],  \nCONVERT(DECIMAL(18,2), vs.available_bytes * 1. / vs.total_bytes * 100.) AS [Space Free %],\nvs.supports_compression, vs.is_compressed, \nvs.supports_sparse_files, vs.supports_alternate_streams\nFROM sys.master_files AS f WITH (NOLOCK)\nCROSS APPLY sys.dm_os_volume_stats(f.database_id, f.[file_id]) AS vs \nORDER BY vs.volume_mount_point OPTION (RECOMPILE);\n"
  },
  {
    "cell_type": "markdown",
    "source": "## Drive Level Latency\n\nDrive level latency information"
  },
  {
    "cell_type": "code",
    "source": "SELECT tab.[Drive], tab.volume_mount_point AS [Volume Mount Point], \n\tCASE \n\t\tWHEN num_of_reads = 0 THEN 0 \n\t\tELSE (io_stall_read_ms/num_of_reads) \n\tEND AS [Read Latency],\n\tCASE \n\t\tWHEN num_of_writes = 0 THEN 0 \n\t\tELSE (io_stall_write_ms/num_of_writes) \n\tEND AS [Write Latency],\n\tCASE \n\t\tWHEN (num_of_reads = 0 AND num_of_writes = 0) THEN 0 \n\t\tELSE (io_stall/(num_of_reads + num_of_writes)) \n\tEND AS [Overall Latency],\n\tCASE \n\t\tWHEN num_of_reads = 0 THEN 0 \n\t\tELSE (num_of_bytes_read/num_of_reads) \n\tEND AS [Avg Bytes/Read],\n\tCASE \n\t\tWHEN num_of_writes = 0 THEN 0 \n\t\tELSE (num_of_bytes_written/num_of_writes) \n\tEND AS [Avg Bytes/Write],\n\tCASE \n\t\tWHEN (num_of_reads = 0 AND num_of_writes = 0) THEN 0 \n\t\tELSE ((num_of_bytes_read + num_of_bytes_written)/(num_of_reads + num_of_writes)) \n\tEND AS [Avg Bytes/Transfer]\nFROM (SELECT LEFT(UPPER(mf.physical_name), 2) AS Drive, SUM(num_of_reads) AS num_of_reads,\n\t         SUM(io_stall_read_ms) AS io_stall_read_ms, SUM(num_of_writes) AS num_of_writes,\n\t         SUM(io_stall_write_ms) AS io_stall_write_ms, SUM(num_of_bytes_read) AS num_of_bytes_read,\n\t         SUM(num_of_bytes_written) AS num_of_bytes_written, SUM(io_stall) AS io_stall, vs.volume_mount_point \n      FROM sys.dm_io_virtual_file_stats(NULL, NULL) AS vfs\n      INNER JOIN sys.master_files AS mf WITH (NOLOCK)\n      ON vfs.database_id = mf.database_id AND vfs.file_id = mf.file_id\n\t  CROSS APPLY sys.dm_os_volume_stats(mf.database_id, mf.[file_id]) AS vs \n      GROUP BY LEFT(UPPER(mf.physical_name), 2), vs.volume_mount_point) AS tab\nORDER BY [Overall Latency] OPTION (RECOMPILE);\n"
  },
  {
    "cell_type": "markdown",
    "source": "## IO Latency by File\n\nCalculates average stalls per read, per write, and per total input/output for each database file "
  },
  {
    "cell_type": "code",
    "source": "SELECT DB_NAME(fs.database_id) AS [Database Name], CAST(fs.io_stall_read_ms/(1.0 + fs.num_of_reads) AS NUMERIC(10,1)) AS [avg_read_latency_ms],\nCAST(fs.io_stall_write_ms/(1.0 + fs.num_of_writes) AS NUMERIC(10,1)) AS [avg_write_latency_ms],\nCAST((fs.io_stall_read_ms + fs.io_stall_write_ms)/(1.0 + fs.num_of_reads + fs.num_of_writes) AS NUMERIC(10,1)) AS [avg_io_latency_ms],\nCONVERT(DECIMAL(18,2), mf.size/128.0) AS [File Size (MB)], mf.physical_name, mf.type_desc, fs.io_stall_read_ms, fs.num_of_reads, \nfs.io_stall_write_ms, fs.num_of_writes, fs.io_stall_read_ms + fs.io_stall_write_ms AS [io_stalls], fs.num_of_reads + fs.num_of_writes AS [total_io],\nio_stall_queued_read_ms AS [Resource Governor Total Read IO Latency (ms)], io_stall_queued_write_ms AS [Resource Governor Total Write IO Latency (ms)] \nFROM sys.dm_io_virtual_file_stats(null,null) AS fs\nINNER JOIN sys.master_files AS mf WITH (NOLOCK)\nON fs.database_id = mf.database_id\nAND fs.[file_id] = mf.[file_id]\nORDER BY avg_io_latency_ms DESC OPTION (RECOMPILE);\n"
  },
  {
    "cell_type": "markdown",
    "source": "## IO Warnings\n\nLook for I/O requests taking longer than 15 seconds in the six most recent SQL Server Error Logs"
  },
  {
    "cell_type": "code",
    "source": "CREATE TABLE #IOWarningResults(LogDate datetime, ProcessInfo sysname, LogText nvarchar(1000));\n\tINSERT INTO #IOWarningResults \n\tEXEC xp_readerrorlog 0, 1, N'taking longer than 15 seconds';\n\tINSERT INTO #IOWarningResults \n\tEXEC xp_readerrorlog 1, 1, N'taking longer than 15 seconds';\n\tINSERT INTO #IOWarningResults \n\tEXEC xp_readerrorlog 2, 1, N'taking longer than 15 seconds';\n\tINSERT INTO #IOWarningResults \n\tEXEC xp_readerrorlog 3, 1, N'taking longer than 15 seconds';\n\tINSERT INTO #IOWarningResults \n\tEXEC xp_readerrorlog 4, 1, N'taking longer than 15 seconds';\n\tINSERT INTO #IOWarningResults \n\tEXEC xp_readerrorlog 5, 1, N'taking longer than 15 seconds';\nSELECT LogDate, ProcessInfo, LogText\nFROM #IOWarningResults\nORDER BY LogDate DESC;\nDROP TABLE #IOWarningResults;\n"
  },
  {
    "cell_type": "markdown",
    "source": "## RG Resource Pools\n\nResource Governor Resource Pool information"
  },
  {
    "cell_type": "code",
    "source": "SELECT pool_id, [Name], statistics_start_time,\n       min_memory_percent, max_memory_percent,  \n       max_memory_kb/1024 AS [max_memory_mb],  \n       used_memory_kb/1024 AS [used_memory_mb],   \n       target_memory_kb/1024 AS [target_memory_mb],\n\t   min_iops_per_volume, max_iops_per_volume\nFROM sys.dm_resource_governor_resource_pools WITH (NOLOCK)\nOPTION (RECOMPILE);\n"
  },
  {
    "cell_type": "markdown",
    "source": "## Database Properties\n\nRecovery model, log reuse wait description, log file size, log usage size "
  },
  {
    "cell_type": "code",
    "source": "SELECT db.[name] AS [Database Name], SUSER_SNAME(db.owner_sid) AS [Database Owner], db.recovery_model_desc AS [Recovery Model], \ndb.state_desc, db.containment_desc, db.log_reuse_wait_desc AS [Log Reuse Wait Description], \nCONVERT(DECIMAL(18,2), ls.cntr_value/1024.0) AS [Log Size (MB)], CONVERT(DECIMAL(18,2), lu.cntr_value/1024.0) AS [Log Used (MB)],\nCAST(CAST(lu.cntr_value AS FLOAT) / CAST(ls.cntr_value AS FLOAT)AS DECIMAL(18,2)) * 100 AS [Log Used %], \ndb.[compatibility_level] AS [DB Compatibility Level], \ndb.is_mixed_page_allocation_on, db.page_verify_option_desc AS [Page Verify Option], \ndb.is_auto_create_stats_on, db.is_auto_update_stats_on, db.is_auto_update_stats_async_on, db.is_parameterization_forced, \ndb.snapshot_isolation_state_desc, db.is_read_committed_snapshot_on, db.is_auto_close_on, db.is_auto_shrink_on, \ndb.target_recovery_time_in_seconds, db.is_cdc_enabled, db.is_published, db.is_distributor,\ndb.group_database_id, db.replica_id,db.is_memory_optimized_elevate_to_snapshot_on, \ndb.delayed_durability_desc, db.is_auto_create_stats_incremental_on,\ndb.is_query_store_on, db.is_sync_with_backup, \ndb.is_supplemental_logging_enabled, db.is_remote_data_archive_enabled,\ndb.is_encrypted, de.encryption_state, de.percent_complete, de.key_algorithm, de.key_length      \nFROM sys.databases AS db WITH (NOLOCK)\nINNER JOIN sys.dm_os_performance_counters AS lu WITH (NOLOCK)\nON db.name = lu.instance_name\nINNER JOIN sys.dm_os_performance_counters AS ls WITH (NOLOCK)\nON db.name = ls.instance_name\nLEFT OUTER JOIN sys.dm_database_encryption_keys AS de WITH (NOLOCK)\nON db.database_id = de.database_id\nWHERE lu.counter_name LIKE N'Log File(s) Used Size (KB)%' \nAND ls.counter_name LIKE N'Log File(s) Size (KB)%'\nAND ls.cntr_value > 0 \nORDER BY db.[name] OPTION (RECOMPILE);\n"
  },
  {
    "cell_type": "markdown",
    "source": "## Missing Indexes All Databases\n\nMissing Indexes for all databases by Index Advantage "
  },
  {
    "cell_type": "code",
    "source": "SELECT CONVERT(decimal(18,2), migs.user_seeks * migs.avg_total_user_cost * (migs.avg_user_impact * 0.01)) AS [index_advantage],\nFORMAT(migs.last_user_seek, 'yyyy-MM-dd HH:mm:ss') AS [last_user_seek], \nmid.[statement] AS [Database.Schema.Table],\nCOUNT(1) OVER(PARTITION BY mid.[statement]) AS [missing_indexes_for_table],\nCOUNT(1) OVER(PARTITION BY mid.[statement], equality_columns) AS [similar_missing_indexes_for_table],\nmid.equality_columns, mid.inequality_columns, mid.included_columns, migs.user_seeks, \nCONVERT(decimal(18,2), migs.avg_total_user_cost) AS [avg_total_user_cost], migs.avg_user_impact \nFROM sys.dm_db_missing_index_group_stats AS migs WITH (NOLOCK)\nINNER JOIN sys.dm_db_missing_index_groups AS mig WITH (NOLOCK)\nON migs.group_handle = mig.index_group_handle\nINNER JOIN sys.dm_db_missing_index_details AS mid WITH (NOLOCK)\nON mig.index_handle = mid.index_handle\nORDER BY index_advantage DESC OPTION (RECOMPILE);\n"
  },
  {
    "cell_type": "markdown",
    "source": "## VLF Counts\n\nGet VLF Counts for all databases on the instance"
  },
  {
    "cell_type": "code",
    "source": "SELECT [name] AS [Database Name], [VLF Count]\nFROM sys.databases AS db WITH (NOLOCK)\nCROSS APPLY (SELECT file_id, COUNT(*) AS [VLF Count]\n\t\t     FROM sys.dm_db_log_info(db.database_id)\n\t\t\t GROUP BY file_id) AS li\nORDER BY [VLF Count] DESC OPTION (RECOMPILE);\n"
  },
  {
    "cell_type": "markdown",
    "source": "## CPU Usage by Database\n\nGet CPU utilization by database"
  },
  {
    "cell_type": "code",
    "source": "WITH DB_CPU_Stats\nAS\n(SELECT pa.DatabaseID, DB_Name(pa.DatabaseID) AS [Database Name], SUM(qs.total_worker_time/1000) AS [CPU_Time_Ms]\n FROM sys.dm_exec_query_stats AS qs WITH (NOLOCK)\n CROSS APPLY (SELECT CONVERT(int, value) AS [DatabaseID] \n              FROM sys.dm_exec_plan_attributes(qs.plan_handle)\n              WHERE attribute = N'dbid') AS pa\n GROUP BY DatabaseID)\nSELECT ROW_NUMBER() OVER(ORDER BY [CPU_Time_Ms] DESC) AS [CPU Rank],\n       [Database Name], [CPU_Time_Ms] AS [CPU Time (ms)], \n       CAST([CPU_Time_Ms] * 1.0 / SUM([CPU_Time_Ms]) OVER() * 100.0 AS DECIMAL(5, 2)) AS [CPU Percent]\nFROM DB_CPU_Stats\nWHERE DatabaseID <> 32767 -- ResourceDB\nORDER BY [CPU Rank] OPTION (RECOMPILE);\n"
  },
  {
    "cell_type": "markdown",
    "source": "## IO Usage By Database\n\nGet I/O utilization by database"
  },
  {
    "cell_type": "code",
    "source": "WITH Aggregate_IO_Statistics\nAS (SELECT DB_NAME(database_id) AS [Database Name],\n    CAST(SUM(num_of_bytes_read + num_of_bytes_written) / 1048576 AS DECIMAL(12, 2)) AS [ioTotalMB],\n    CAST(SUM(num_of_bytes_read ) / 1048576 AS DECIMAL(12, 2)) AS [ioReadMB],\n    CAST(SUM(num_of_bytes_written) / 1048576 AS DECIMAL(12, 2)) AS [ioWriteMB]\n    FROM sys.dm_io_virtual_file_stats(NULL, NULL) AS [DM_IO_STATS]\n    GROUP BY database_id)\nSELECT ROW_NUMBER() OVER (ORDER BY ioTotalMB DESC) AS [I/O Rank],\n        [Database Name], ioTotalMB AS [Total I/O (MB)],\n        CAST(ioTotalMB / SUM(ioTotalMB) OVER () * 100.0 AS DECIMAL(5, 2)) AS [Total I/O %],\n        ioReadMB AS [Read I/O (MB)], \n\t\tCAST(ioReadMB / SUM(ioReadMB) OVER () * 100.0 AS DECIMAL(5, 2)) AS [Read I/O %],\n        ioWriteMB AS [Write I/O (MB)], \n\t\tCAST(ioWriteMB / SUM(ioWriteMB) OVER () * 100.0 AS DECIMAL(5, 2)) AS [Write I/O %]\nFROM Aggregate_IO_Statistics\nORDER BY [I/O Rank] OPTION (RECOMPILE);\n"
  },
  {
    "cell_type": "markdown",
    "source": "## Total Buffer Usage by Database\n\nGet total buffer usage by database for current instance "
  },
  {
    "cell_type": "code",
    "source": "WITH AggregateBufferPoolUsage\nAS\n(SELECT DB_NAME(database_id) AS [Database Name],\nCAST(COUNT(*) * 8/1024.0 AS DECIMAL (10,2))  AS [CachedSize]\nFROM sys.dm_os_buffer_descriptors WITH (NOLOCK)\nWHERE database_id <> 32767 -- ResourceDB\nGROUP BY DB_NAME(database_id))\nSELECT ROW_NUMBER() OVER(ORDER BY CachedSize DESC) AS [Buffer Pool Rank], [Database Name], CachedSize AS [Cached Size (MB)],\n       CAST(CachedSize / SUM(CachedSize) OVER() * 100.0 AS DECIMAL(5,2)) AS [Buffer Pool Percent]\nFROM AggregateBufferPoolUsage\nORDER BY [Buffer Pool Rank] OPTION (RECOMPILE);\n"
  },
  {
    "cell_type": "markdown",
    "source": "## Version Store Space Usage\n\nGet tempdb version store space usage by database"
  },
  {
    "cell_type": "code",
    "source": "SELECT DB_NAME(database_id) AS [Database Name],\n       reserved_page_count AS [Version Store Reserved Page Count], \n\t   reserved_space_kb/1024 AS [Version Store Reserved Space (MB)] \nFROM sys.dm_tran_version_store_space_usage WITH (NOLOCK) \nORDER BY reserved_space_kb/1024 DESC OPTION (RECOMPILE);\n"
  },
  {
    "cell_type": "markdown",
    "source": "## Top Waits\n\nIsolate top waits for server instance since last restart or wait statistics clear "
  },
  {
    "cell_type": "code",
    "source": "WITH [Waits] \nAS (SELECT wait_type, wait_time_ms/ 1000.0 AS [WaitS],\n          (wait_time_ms - signal_wait_time_ms) / 1000.0 AS [ResourceS],\n           signal_wait_time_ms / 1000.0 AS [SignalS],\n           waiting_tasks_count AS [WaitCount],\n           100.0 *  wait_time_ms / SUM (wait_time_ms) OVER() AS [Percentage],\n           ROW_NUMBER() OVER(ORDER BY wait_time_ms DESC) AS [RowNum]\n    FROM sys.dm_os_wait_stats WITH (NOLOCK)\n    WHERE [wait_type] NOT IN (\n        N'BROKER_EVENTHANDLER', N'BROKER_RECEIVE_WAITFOR', N'BROKER_TASK_STOP',\n\t\tN'BROKER_TO_FLUSH', N'BROKER_TRANSMITTER', N'CHECKPOINT_QUEUE',\n        N'CHKPT', N'CLR_AUTO_EVENT', N'CLR_MANUAL_EVENT', N'CLR_SEMAPHORE', N'CXCONSUMER',\n        N'DBMIRROR_DBM_EVENT', N'DBMIRROR_EVENTS_QUEUE', N'DBMIRROR_WORKER_QUEUE',\n\t\tN'DBMIRRORING_CMD', N'DIRTY_PAGE_POLL', N'DISPATCHER_QUEUE_SEMAPHORE',\n        N'EXECSYNC', N'FSAGENT', N'FT_IFTS_SCHEDULER_IDLE_WAIT', N'FT_IFTSHC_MUTEX',\n        N'HADR_CLUSAPI_CALL', N'HADR_FILESTREAM_IOMGR_IOCOMPLETION', N'HADR_LOGCAPTURE_WAIT', \n\t\tN'HADR_NOTIFICATION_DEQUEUE', N'HADR_TIMER_TASK', N'HADR_WORK_QUEUE',\n        N'KSOURCE_WAKEUP', N'LAZYWRITER_SLEEP', N'LOGMGR_QUEUE', \n\t\tN'MEMORY_ALLOCATION_EXT', N'ONDEMAND_TASK_QUEUE',\n\t\tN'PARALLEL_REDO_DRAIN_WORKER', N'PARALLEL_REDO_LOG_CACHE', N'PARALLEL_REDO_TRAN_LIST',\n\t\tN'PARALLEL_REDO_WORKER_SYNC', N'PARALLEL_REDO_WORKER_WAIT_WORK',\n\t\tN'PREEMPTIVE_HADR_LEASE_MECHANISM', N'PREEMPTIVE_SP_SERVER_DIAGNOSTICS',\n\t\tN'PREEMPTIVE_OS_LIBRARYOPS', N'PREEMPTIVE_OS_COMOPS', N'PREEMPTIVE_OS_CRYPTOPS',\n\t\tN'PREEMPTIVE_OS_PIPEOPS', N'PREEMPTIVE_OS_AUTHENTICATIONOPS',\n\t\tN'PREEMPTIVE_OS_GENERICOPS', N'PREEMPTIVE_OS_VERIFYTRUST',\n\t\tN'PREEMPTIVE_OS_FILEOPS', N'PREEMPTIVE_OS_DEVICEOPS', N'PREEMPTIVE_OS_QUERYREGISTRY',\n\t\tN'PREEMPTIVE_OS_WRITEFILE',\n\t\tN'PREEMPTIVE_XE_CALLBACKEXECUTE', N'PREEMPTIVE_XE_DISPATCHER',\n\t\tN'PREEMPTIVE_XE_GETTARGETSTATE', N'PREEMPTIVE_XE_SESSIONCOMMIT',\n\t\tN'PREEMPTIVE_XE_TARGETINIT', N'PREEMPTIVE_XE_TARGETFINALIZE',\n        N'PWAIT_ALL_COMPONENTS_INITIALIZED', N'PWAIT_DIRECTLOGCONSUMER_GETNEXT',\n\t\tN'QDS_PERSIST_TASK_MAIN_LOOP_SLEEP',\n\t\tN'QDS_ASYNC_QUEUE',\n        N'QDS_CLEANUP_STALE_QUERIES_TASK_MAIN_LOOP_SLEEP', N'REQUEST_FOR_DEADLOCK_SEARCH',\n\t\tN'RESOURCE_QUEUE', N'SERVER_IDLE_CHECK', N'SLEEP_BPOOL_FLUSH', N'SLEEP_DBSTARTUP',\n\t\tN'SLEEP_DCOMSTARTUP', N'SLEEP_MASTERDBREADY', N'SLEEP_MASTERMDREADY',\n        N'SLEEP_MASTERUPGRADED', N'SLEEP_MSDBSTARTUP', N'SLEEP_SYSTEMTASK', N'SLEEP_TASK',\n        N'SLEEP_TEMPDBSTARTUP', N'SNI_HTTP_ACCEPT', N'SP_SERVER_DIAGNOSTICS_SLEEP',\n\t\tN'SQLTRACE_BUFFER_FLUSH', N'SQLTRACE_INCREMENTAL_FLUSH_SLEEP', N'SQLTRACE_WAIT_ENTRIES',\n\t\tN'WAIT_FOR_RESULTS', N'WAITFOR', N'WAITFOR_TASKSHUTDOWN', N'WAIT_XTP_HOST_WAIT',\n\t\tN'WAIT_XTP_OFFLINE_CKPT_NEW_LOG', N'WAIT_XTP_CKPT_CLOSE', N'WAIT_XTP_RECOVERY',\n\t\tN'XE_BUFFERMGR_ALLPROCESSED_EVENT', N'XE_DISPATCHER_JOIN',\n        N'XE_DISPATCHER_WAIT', N'XE_LIVE_TARGET_TVF', N'XE_TIMER_EVENT')\n    AND waiting_tasks_count > 0)\nSELECT\n    MAX (W1.wait_type) AS [WaitType],\n\tCAST (MAX (W1.Percentage) AS DECIMAL (5,2)) AS [Wait Percentage],\n\tCAST ((MAX (W1.WaitS) / MAX (W1.WaitCount)) AS DECIMAL (16,4)) AS [AvgWait_Sec],\n    CAST ((MAX (W1.ResourceS) / MAX (W1.WaitCount)) AS DECIMAL (16,4)) AS [AvgRes_Sec],\n    CAST ((MAX (W1.SignalS) / MAX (W1.WaitCount)) AS DECIMAL (16,4)) AS [AvgSig_Sec], \n    CAST (MAX (W1.WaitS) AS DECIMAL (16,2)) AS [Wait_Sec],\n    CAST (MAX (W1.ResourceS) AS DECIMAL (16,2)) AS [Resource_Sec],\n    CAST (MAX (W1.SignalS) AS DECIMAL (16,2)) AS [Signal_Sec],\n    MAX (W1.WaitCount) AS [Wait Count],\n\tCAST (N'https://www.sqlskills.com/help/waits/' + W1.wait_type AS XML) AS [Help/Info URL]\nFROM Waits AS W1\nINNER JOIN Waits AS W2\nON W2.RowNum <= W1.RowNum\nGROUP BY W1.RowNum, W1.wait_type\nHAVING SUM (W2.Percentage) - MAX (W1.Percentage) < 99 -- percentage threshold\nOPTION (RECOMPILE);\n"
  },
  {
    "cell_type": "markdown",
    "source": "## Connection Counts by IP Address\n\nGet a count of SQL connections by IP address"
  },
  {
    "cell_type": "code",
    "source": "SELECT ec.client_net_address, es.[program_name], es.[host_name], es.login_name, \nCOUNT(ec.session_id) AS [connection count] \nFROM sys.dm_exec_sessions AS es WITH (NOLOCK) \nINNER JOIN sys.dm_exec_connections AS ec WITH (NOLOCK) \nON es.session_id = ec.session_id \nGROUP BY ec.client_net_address, es.[program_name], es.[host_name], es.login_name  \nORDER BY ec.client_net_address, es.[program_name] OPTION (RECOMPILE);\n"
  },
  {
    "cell_type": "markdown",
    "source": "## Avg Task Counts\n\nGet Average Task Counts (run multiple times) "
  },
  {
    "cell_type": "code",
    "source": "SELECT AVG(current_tasks_count) AS [Avg Task Count], \nAVG(work_queue_count) AS [Avg Work Queue Count],\nAVG(runnable_tasks_count) AS [Avg Runnable Task Count],\nAVG(pending_disk_io_count) AS [Avg Pending DiskIO Count]\nFROM sys.dm_os_schedulers WITH (NOLOCK)\nWHERE scheduler_id < 255 OPTION (RECOMPILE);\n"
  },
  {
    "cell_type": "markdown",
    "source": "## Detect Blocking\n\nDetect blocking (run multiple times) "
  },
  {
    "cell_type": "code",
    "source": "SELECT t1.resource_type AS [lock type], DB_NAME(resource_database_id) AS [database],\nt1.resource_associated_entity_id AS [blk object],t1.request_mode AS [lock req],  -- lock requested\nt1.request_session_id AS [waiter sid], t2.wait_duration_ms AS [wait time],       -- spid of waiter  \n(SELECT [text] FROM sys.dm_exec_requests AS r WITH (NOLOCK)                      -- get sql for waiter\nCROSS APPLY sys.dm_exec_sql_text(r.[sql_handle]) \nWHERE r.session_id = t1.request_session_id) AS [waiter_batch],\n(SELECT SUBSTRING(qt.[text],r.statement_start_offset/2, \n    (CASE WHEN r.statement_end_offset = -1 \n    THEN LEN(CONVERT(nvarchar(max), qt.[text])) * 2 \n    ELSE r.statement_end_offset END - r.statement_start_offset)/2) \nFROM sys.dm_exec_requests AS r WITH (NOLOCK)\nCROSS APPLY sys.dm_exec_sql_text(r.[sql_handle]) AS qt\nWHERE r.session_id = t1.request_session_id) AS [waiter_stmt],\t\t\t\t\t-- statement blocked\nt2.blocking_session_id AS [blocker sid],\t\t\t\t\t\t\t\t\t\t-- spid of blocker\n(SELECT [text] FROM sys.sysprocesses AS p\t\t\t\t\t\t\t\t\t\t-- get sql for blocker\nCROSS APPLY sys.dm_exec_sql_text(p.[sql_handle]) \nWHERE p.spid = t2.blocking_session_id) AS [blocker_batch]\nFROM sys.dm_tran_locks AS t1 WITH (NOLOCK)\nINNER JOIN sys.dm_os_waiting_tasks AS t2 WITH (NOLOCK)\nON t1.lock_owner_address = t2.resource_address OPTION (RECOMPILE);\n"
  },
  {
    "cell_type": "markdown",
    "source": "## CPU Utilization History\n\nGet CPU Utilization History for last 256 minutes (in one minute intervals) "
  },
  {
    "cell_type": "code",
    "source": "DECLARE @ts_now bigint = (SELECT cpu_ticks/(cpu_ticks/ms_ticks) FROM sys.dm_os_sys_info WITH (NOLOCK)); \nSELECT TOP(256) SQLProcessUtilization AS [SQL Server Process CPU Utilization], \n               SystemIdle AS [System Idle Process], \n               100 - SystemIdle - SQLProcessUtilization AS [Other Process CPU Utilization], \n               DATEADD(ms, -1 * (@ts_now - [timestamp]), GETDATE()) AS [Event Time] \nFROM (SELECT record.value('(./Record/@id)[1]', 'int') AS record_id, \n\t\t\trecord.value('(./Record/SchedulerMonitorEvent/SystemHealth/SystemIdle)[1]', 'int') \n\t\t\tAS [SystemIdle], \n\t\t\trecord.value('(./Record/SchedulerMonitorEvent/SystemHealth/ProcessUtilization)[1]', 'int') \n\t\t\tAS [SQLProcessUtilization], [timestamp] \n\t  FROM (SELECT [timestamp], CONVERT(xml, record) AS [record] \n\t\t\tFROM sys.dm_os_ring_buffers WITH (NOLOCK)\n\t\t\tWHERE ring_buffer_type = N'RING_BUFFER_SCHEDULER_MONITOR' \n\t\t\tAND record LIKE N'%<SystemHealth>%') AS x) AS y \nORDER BY record_id DESC OPTION (RECOMPILE);\n"
  },
  {
    "cell_type": "markdown",
    "source": "## Top Worker Time Queries\n\nGet top total worker time queries for entire instance"
  },
  {
    "cell_type": "code",
    "source": "SELECT TOP(50) DB_NAME(t.[dbid]) AS [Database Name], \nREPLACE(REPLACE(LEFT(t.[text], 255), CHAR(10),''), CHAR(13),'') AS [Short Query Text],  \nqs.total_worker_time AS [Total Worker Time], qs.min_worker_time AS [Min Worker Time],\nqs.total_worker_time/qs.execution_count AS [Avg Worker Time], \nqs.max_worker_time AS [Max Worker Time], \nqs.min_elapsed_time AS [Min Elapsed Time], \nqs.total_elapsed_time/qs.execution_count AS [Avg Elapsed Time], \nqs.max_elapsed_time AS [Max Elapsed Time],\nqs.min_logical_reads AS [Min Logical Reads],\nqs.total_logical_reads/qs.execution_count AS [Avg Logical Reads],\nqs.max_logical_reads AS [Max Logical Reads], \nqs.execution_count AS [Execution Count],\nCASE WHEN CONVERT(nvarchar(max), qp.query_plan) LIKE N'%<MissingIndexes>%' THEN 1 ELSE 0 END AS [Has Missing Index], \nqs.creation_time AS [Creation Time]\n, t.[text] AS [Complete Query Text], qp.query_plan AS [Query Plan]\nFROM sys.dm_exec_query_stats AS qs WITH (NOLOCK)\nCROSS APPLY sys.dm_exec_sql_text(plan_handle) AS t \nCROSS APPLY sys.dm_exec_query_plan(plan_handle) AS qp \nORDER BY qs.total_worker_time DESC OPTION (RECOMPILE);\n"
  },
  {
    "cell_type": "markdown",
    "source": "## PLE by NUMA Node\n\nPage Life Expectancy (PLE) value for each NUMA node in current instance "
  },
  {
    "cell_type": "code",
    "source": "SELECT @@SERVERNAME AS [Server Name], RTRIM([object_name]) AS [Object Name], \n       instance_name, cntr_value AS [Page Life Expectancy]\nFROM sys.dm_os_performance_counters WITH (NOLOCK)\nWHERE [object_name] LIKE N'%Buffer Node%' -- Handles named instances\nAND counter_name = N'Page life expectancy' OPTION (RECOMPILE);\n"
  },
  {
    "cell_type": "markdown",
    "source": "## Memory Grants Pending\n\nMemory Grants Pending value for current instance "
  },
  {
    "cell_type": "code",
    "source": "SELECT @@SERVERNAME AS [Server Name], RTRIM([object_name]) AS [Object Name], cntr_value AS [Memory Grants Pending]                                                                                                       \nFROM sys.dm_os_performance_counters WITH (NOLOCK)\nWHERE [object_name] LIKE N'%Memory Manager%' -- Handles named instances\nAND counter_name = N'Memory Grants Pending' OPTION (RECOMPILE);\n"
  },
  {
    "cell_type": "markdown",
    "source": "## Memory Clerk Usage\n\nMemory Clerk Usage for instance "
  },
  {
    "cell_type": "code",
    "source": "SELECT TOP(10) mc.[type] AS [Memory Clerk Type], \n       CAST((SUM(mc.pages_kb)/1024.0) AS DECIMAL (15,2)) AS [Memory Usage (MB)] \nFROM sys.dm_os_memory_clerks AS mc WITH (NOLOCK)\nGROUP BY mc.[type]  \nORDER BY SUM(mc.pages_kb) DESC OPTION (RECOMPILE);\n"
  },
  {
    "cell_type": "markdown",
    "source": "## Ad hoc Queries\n\nFind single-use, ad-hoc and prepared queries that are bloating the plan cache "
  },
  {
    "cell_type": "code",
    "source": "SELECT TOP(50) DB_NAME(t.[dbid]) AS [Database Name], t.[text] AS [Query Text], \ncp.objtype AS [Object Type], cp.cacheobjtype AS [Cache Object Type],  \ncp.size_in_bytes/1024 AS [Plan Size in KB]\nFROM sys.dm_exec_cached_plans AS cp WITH (NOLOCK)\nCROSS APPLY sys.dm_exec_sql_text(plan_handle) AS t\nWHERE cp.cacheobjtype = N'Compiled Plan' \nAND cp.objtype IN (N'Adhoc', N'Prepared') \nAND cp.usecounts = 1\nORDER BY cp.size_in_bytes DESC, DB_NAME(t.[dbid]) OPTION (RECOMPILE);\n"
  },
  {
    "cell_type": "markdown",
    "source": "## Top Logical Reads Queries\n\nGet top total logical reads queries for entire instance"
  },
  {
    "cell_type": "code",
    "source": "SELECT TOP(50) DB_NAME(t.[dbid]) AS [Database Name],\nREPLACE(REPLACE(LEFT(t.[text], 255), CHAR(10),''), CHAR(13),'') AS [Short Query Text], \nqs.total_logical_reads AS [Total Logical Reads],\nqs.min_logical_reads AS [Min Logical Reads],\nqs.total_logical_reads/qs.execution_count AS [Avg Logical Reads],\nqs.max_logical_reads AS [Max Logical Reads],   \nqs.min_worker_time AS [Min Worker Time],\nqs.total_worker_time/qs.execution_count AS [Avg Worker Time], \nqs.max_worker_time AS [Max Worker Time], \nqs.min_elapsed_time AS [Min Elapsed Time], \nqs.total_elapsed_time/qs.execution_count AS [Avg Elapsed Time], \nqs.max_elapsed_time AS [Max Elapsed Time],\nqs.execution_count AS [Execution Count], \nCASE WHEN CONVERT(nvarchar(max), qp.query_plan) LIKE N'%<MissingIndexes>%' THEN 1 ELSE 0 END AS [Has Missing Index],\nqs.creation_time AS [Creation Time]\n, t.[text] AS [Complete Query Text], qp.query_plan AS [Query Plan]\nFROM sys.dm_exec_query_stats AS qs WITH (NOLOCK)\nCROSS APPLY sys.dm_exec_sql_text(plan_handle) AS t \nCROSS APPLY sys.dm_exec_query_plan(plan_handle) AS qp \nORDER BY qs.total_logical_reads DESC OPTION (RECOMPILE);\n"
  },
  {
    "cell_type": "markdown",
    "source": "## Top Avg Elapsed Time Queries\n\nGet top average elapsed time queries for entire instance"
  },
  {
    "cell_type": "code",
    "source": "SELECT TOP(50) DB_NAME(t.[dbid]) AS [Database Name], \nREPLACE(REPLACE(LEFT(t.[text], 255), CHAR(10),''), CHAR(13),'') AS [Short Query Text],  \nqs.total_elapsed_time/qs.execution_count AS [Avg Elapsed Time],\nqs.min_elapsed_time, qs.max_elapsed_time, qs.last_elapsed_time,\nqs.execution_count AS [Execution Count],  \nqs.total_logical_reads/qs.execution_count AS [Avg Logical Reads], \nqs.total_physical_reads/qs.execution_count AS [Avg Physical Reads], \nqs.total_worker_time/qs.execution_count AS [Avg Worker Time],\nCASE WHEN CONVERT(nvarchar(max), qp.query_plan) LIKE N'%<MissingIndexes>%' THEN 1 ELSE 0 END AS [Has Missing Index],\nqs.creation_time AS [Creation Time]\n, t.[text] AS [Complete Query Text], qp.query_plan AS [Query Plan]\nFROM sys.dm_exec_query_stats AS qs WITH (NOLOCK)\nCROSS APPLY sys.dm_exec_sql_text(plan_handle) AS t \nCROSS APPLY sys.dm_exec_query_plan(plan_handle) AS qp \nORDER BY qs.total_elapsed_time/qs.execution_count DESC OPTION (RECOMPILE);\n"
  },
  {
    "cell_type": "markdown",
    "source": "## UDF Stats by DB\n\nLook at UDF execution statistics"
  },
  {
    "cell_type": "code",
    "source": "SELECT TOP (25) DB_NAME(database_id) AS [Database Name], \n\t\t   OBJECT_NAME(object_id, database_id) AS [Function Name],\n\t\t   total_worker_time, execution_count, total_elapsed_time,  \n           total_elapsed_time/execution_count AS [avg_elapsed_time],  \n           last_elapsed_time, last_execution_time, cached_time, [type_desc] \nFROM sys.dm_exec_function_stats WITH (NOLOCK) \nORDER BY total_worker_time DESC OPTION (RECOMPILE);\n"
  },
  {
    "cell_type": "markdown",
    "source": "## File Sizes and Space\n\nIndividual File Sizes and space available for current database "
  },
  {
    "cell_type": "code",
    "source": "SELECT f.name AS [File Name] , f.physical_name AS [Physical Name], \nCAST((f.size/128.0) AS DECIMAL(15,2)) AS [Total Size in MB],\nCAST(f.size/128.0 - CAST(FILEPROPERTY(f.name, 'SpaceUsed') AS int)/128.0 AS DECIMAL(15,2)) \nAS [Available Space In MB],\nCAST((f.size/128.0) AS DECIMAL(15,2)) - \nCAST(f.size/128.0 - CAST(FILEPROPERTY(f.name, 'SpaceUsed') AS int)/128.0 AS DECIMAL(15,2)) AS [Used Space in MB],\nf.[file_id], fg.name AS [Filegroup Name],\nf.is_percent_growth, f.growth, fg.is_default, fg.is_read_only, \nfg.is_autogrow_all_files\nFROM sys.database_files AS f WITH (NOLOCK) \nLEFT OUTER JOIN sys.filegroups AS fg WITH (NOLOCK)\nON f.data_space_id = fg.data_space_id\nORDER BY f.[file_id] OPTION (RECOMPILE);\n"
  },
  {
    "cell_type": "markdown",
    "source": "## Log Space Usage\n\nLog space usage for current database "
  },
  {
    "cell_type": "code",
    "source": "SELECT DB_NAME(lsu.database_id) AS [Database Name], db.recovery_model_desc AS [Recovery Model],\n\t\tCAST(lsu.total_log_size_in_bytes/1048576.0 AS DECIMAL(10, 2)) AS [Total Log Space (MB)],\n\t\tCAST(lsu.used_log_space_in_bytes/1048576.0 AS DECIMAL(10, 2)) AS [Used Log Space (MB)], \n\t\tCAST(lsu.used_log_space_in_percent AS DECIMAL(10, 2)) AS [Used Log Space %],\n\t\tCAST(lsu.log_space_in_bytes_since_last_backup/1048576.0 AS DECIMAL(10, 2)) AS [Used Log Space Since Last Backup (MB)],\n\t\tdb.log_reuse_wait_desc\t\t \nFROM sys.dm_db_log_space_usage AS lsu WITH (NOLOCK)\nINNER JOIN sys.databases AS db WITH (NOLOCK)\nON lsu.database_id = db.database_id\nOPTION (RECOMPILE);\n"
  },
  {
    "cell_type": "markdown",
    "source": "## Last VLF Status\n\nStatus of last VLF for current database "
  },
  {
    "cell_type": "code",
    "source": "SELECT TOP(1) DB_NAME(li.database_id) AS [Database Name], li.[file_id],\n              li.vlf_size_mb, li.vlf_sequence_number, li.vlf_active, li.vlf_status\nFROM sys.dm_db_log_info(DB_ID()) AS li \nORDER BY vlf_sequence_number DESC OPTION (RECOMPILE);\n"
  },
  {
    "cell_type": "markdown",
    "source": "## Database-scoped Configurations\n\nGet database scoped configuration values for current database"
  },
  {
    "cell_type": "code",
    "source": "SELECT configuration_id, name, [value] AS [value_for_primary], value_for_secondary\nFROM sys.database_scoped_configurations WITH (NOLOCK) OPTION (RECOMPILE);\n"
  },
  {
    "cell_type": "markdown",
    "source": "## IO Stats By File\n\nI/O Statistics by file for the current database "
  },
  {
    "cell_type": "code",
    "source": "SELECT DB_NAME(DB_ID()) AS [Database Name], df.name AS [Logical Name], vfs.[file_id], df.type_desc,\ndf.physical_name AS [Physical Name], CAST(vfs.size_on_disk_bytes/1048576.0 AS DECIMAL(16, 2)) AS [Size on Disk (MB)],\nvfs.num_of_reads, vfs.num_of_writes, vfs.io_stall_read_ms, vfs.io_stall_write_ms,\nCAST(100. * vfs.io_stall_read_ms/(vfs.io_stall_read_ms + vfs.io_stall_write_ms) AS DECIMAL(16,1)) AS [IO Stall Reads Pct],\nCAST(100. * vfs.io_stall_write_ms/(vfs.io_stall_write_ms + vfs.io_stall_read_ms) AS DECIMAL(16,1)) AS [IO Stall Writes Pct],\n(vfs.num_of_reads + vfs.num_of_writes) AS [Writes + Reads], \nCAST(vfs.num_of_bytes_read/1048576.0 AS DECIMAL(16, 2)) AS [MB Read], \nCAST(vfs.num_of_bytes_written/1048576.0 AS DECIMAL(16, 2)) AS [MB Written],\nCAST(100. * vfs.num_of_reads/(vfs.num_of_reads + vfs.num_of_writes) AS DECIMAL(16,1)) AS [# Reads Pct],\nCAST(100. * vfs.num_of_writes/(vfs.num_of_reads + vfs.num_of_writes) AS DECIMAL(16,1)) AS [# Write Pct],\nCAST(100. * vfs.num_of_bytes_read/(vfs.num_of_bytes_read + vfs.num_of_bytes_written) AS DECIMAL(16,1)) AS [Read Bytes Pct],\nCAST(100. * vfs.num_of_bytes_written/(vfs.num_of_bytes_read + vfs.num_of_bytes_written) AS DECIMAL(16,1)) AS [Written Bytes Pct]\nFROM sys.dm_io_virtual_file_stats(DB_ID(), NULL) AS vfs\nINNER JOIN sys.database_files AS df WITH (NOLOCK)\nON vfs.[file_id]= df.[file_id] OPTION (RECOMPILE);\n"
  },
  {
    "cell_type": "markdown",
    "source": "## Query Execution Counts\n\nGet most frequently executed queries for this database"
  },
  {
    "cell_type": "code",
    "source": "SELECT TOP(50) LEFT(t.[text], 50) AS [Short Query Text], qs.execution_count AS [Execution Count],\nqs.total_logical_reads AS [Total Logical Reads],\nqs.total_logical_reads/qs.execution_count AS [Avg Logical Reads],\nqs.total_worker_time AS [Total Worker Time],\nqs.total_worker_time/qs.execution_count AS [Avg Worker Time], \nqs.total_elapsed_time AS [Total Elapsed Time],\nqs.total_elapsed_time/qs.execution_count AS [Avg Elapsed Time],\nCASE WHEN CONVERT(nvarchar(max), qp.query_plan) LIKE N'%<MissingIndexes>%' THEN 1 ELSE 0 END AS [Has Missing Index], \nqs.creation_time AS [Creation Time]\n, t.[text] AS [Complete Query Text], qp.query_plan AS [Query Plan]\nFROM sys.dm_exec_query_stats AS qs WITH (NOLOCK)\nCROSS APPLY sys.dm_exec_sql_text(plan_handle) AS t \nCROSS APPLY sys.dm_exec_query_plan(plan_handle) AS qp \nWHERE t.dbid = DB_ID()\nORDER BY qs.execution_count DESC OPTION (RECOMPILE);\n"
  },
  {
    "cell_type": "markdown",
    "source": "## SP Execution Counts\n\nTop Cached SPs By Execution Count"
  },
  {
    "cell_type": "code",
    "source": "SELECT TOP(100) p.name AS [SP Name], qs.execution_count AS [Execution Count],\nISNULL(qs.execution_count/DATEDIFF(Minute, qs.cached_time, GETDATE()), 0) AS [Calls/Minute],\nqs.total_elapsed_time/qs.execution_count AS [Avg Elapsed Time],\nqs.total_worker_time/qs.execution_count AS [Avg Worker Time],    \nqs.total_logical_reads/qs.execution_count AS [Avg Logical Reads],\nCASE WHEN CONVERT(nvarchar(max), qp.query_plan) LIKE N'%<MissingIndexes>%' THEN 1 ELSE 0 END AS [Has Missing Index],\nFORMAT(qs.last_execution_time, 'yyyy-MM-dd HH:mm:ss', 'en-US') AS [Last Execution Time], \nFORMAT(qs.cached_time, 'yyyy-MM-dd HH:mm:ss', 'en-US') AS [Plan Cached Time]\nFROM sys.procedures AS p WITH (NOLOCK)\nINNER JOIN sys.dm_exec_procedure_stats AS qs WITH (NOLOCK)\nON p.[object_id] = qs.[object_id]\nCROSS APPLY sys.dm_exec_query_plan(qs.plan_handle) AS qp\nWHERE qs.database_id = DB_ID()\nAND DATEDIFF(Minute, qs.cached_time, GETDATE()) > 0\nORDER BY qs.execution_count DESC OPTION (RECOMPILE);\n"
  },
  {
    "cell_type": "markdown",
    "source": "## SP Avg Elapsed Time\n\nTop Cached SPs By Avg Elapsed Time"
  },
  {
    "cell_type": "code",
    "source": "SELECT TOP(25) p.name AS [SP Name], qs.min_elapsed_time, qs.total_elapsed_time/qs.execution_count AS [avg_elapsed_time], \nqs.max_elapsed_time, qs.last_elapsed_time, qs.total_elapsed_time, qs.execution_count, \nISNULL(qs.execution_count/DATEDIFF(Minute, qs.cached_time, GETDATE()), 0) AS [Calls/Minute], \nqs.total_worker_time/qs.execution_count AS [AvgWorkerTime], \nqs.total_worker_time AS [TotalWorkerTime],\nCASE WHEN CONVERT(nvarchar(max), qp.query_plan) LIKE N'%<MissingIndexes>%' THEN 1 ELSE 0 END AS [Has Missing Index],\nFORMAT(qs.last_execution_time, 'yyyy-MM-dd HH:mm:ss', 'en-US') AS [Last Execution Time], \nFORMAT(qs.cached_time, 'yyyy-MM-dd HH:mm:ss', 'en-US') AS [Plan Cached Time]\nFROM sys.procedures AS p WITH (NOLOCK)\nINNER JOIN sys.dm_exec_procedure_stats AS qs WITH (NOLOCK)\nON p.[object_id] = qs.[object_id]\nCROSS APPLY sys.dm_exec_query_plan(qs.plan_handle) AS qp\nWHERE qs.database_id = DB_ID()\nAND DATEDIFF(Minute, qs.cached_time, GETDATE()) > 0\nORDER BY avg_elapsed_time DESC OPTION (RECOMPILE);\n"
  },
  {
    "cell_type": "markdown",
    "source": "## SP Worker Time\n\nTop Cached SPs By Total Worker time. Worker time relates to CPU cost "
  },
  {
    "cell_type": "code",
    "source": "SELECT TOP(25) p.name AS [SP Name], qs.total_worker_time AS [TotalWorkerTime], \nqs.total_worker_time/qs.execution_count AS [AvgWorkerTime], qs.execution_count, \nISNULL(qs.execution_count/DATEDIFF(Minute, qs.cached_time, GETDATE()), 0) AS [Calls/Minute],\nqs.total_elapsed_time, qs.total_elapsed_time/qs.execution_count AS [avg_elapsed_time],\nCASE WHEN CONVERT(nvarchar(max), qp.query_plan) LIKE N'%<MissingIndexes>%' THEN 1 ELSE 0 END AS [Has Missing Index],\nFORMAT(qs.last_execution_time, 'yyyy-MM-dd HH:mm:ss', 'en-US') AS [Last Execution Time], \nFORMAT(qs.cached_time, 'yyyy-MM-dd HH:mm:ss', 'en-US') AS [Plan Cached Time]\nFROM sys.procedures AS p WITH (NOLOCK)\nINNER JOIN sys.dm_exec_procedure_stats AS qs WITH (NOLOCK)\nON p.[object_id] = qs.[object_id]\nCROSS APPLY sys.dm_exec_query_plan(qs.plan_handle) AS qp\nWHERE qs.database_id = DB_ID()\nAND DATEDIFF(Minute, qs.cached_time, GETDATE()) > 0\nORDER BY qs.total_worker_time DESC OPTION (RECOMPILE);\n"
  },
  {
    "cell_type": "markdown",
    "source": "## SP Logical Reads\n\nTop Cached SPs By Total Logical Reads. Logical reads relate to memory pressure "
  },
  {
    "cell_type": "code",
    "source": "SELECT TOP(25) p.name AS [SP Name], qs.total_logical_reads AS [TotalLogicalReads], \nqs.total_logical_reads/qs.execution_count AS [AvgLogicalReads],qs.execution_count, \nISNULL(qs.execution_count/DATEDIFF(Minute, qs.cached_time, GETDATE()), 0) AS [Calls/Minute], \nqs.total_elapsed_time, qs.total_elapsed_time/qs.execution_count AS [avg_elapsed_time],\nCASE WHEN CONVERT(nvarchar(max), qp.query_plan) LIKE N'%<MissingIndexes>%' THEN 1 ELSE 0 END AS [Has Missing Index], \nFORMAT(qs.last_execution_time, 'yyyy-MM-dd HH:mm:ss', 'en-US') AS [Last Execution Time], \nFORMAT(qs.cached_time, 'yyyy-MM-dd HH:mm:ss', 'en-US') AS [Plan Cached Time]\nFROM sys.procedures AS p WITH (NOLOCK)\nINNER JOIN sys.dm_exec_procedure_stats AS qs WITH (NOLOCK)\nON p.[object_id] = qs.[object_id]\nCROSS APPLY sys.dm_exec_query_plan(qs.plan_handle) AS qp\nWHERE qs.database_id = DB_ID()\nAND DATEDIFF(Minute, qs.cached_time, GETDATE()) > 0\nORDER BY qs.total_logical_reads DESC OPTION (RECOMPILE);\n"
  },
  {
    "cell_type": "markdown",
    "source": "## SP Physical Reads\n\nTop Cached SPs By Total Physical Reads. Physical reads relate to disk read I/O pressure "
  },
  {
    "cell_type": "code",
    "source": "SELECT TOP(25) p.name AS [SP Name],qs.total_physical_reads AS [TotalPhysicalReads], \nqs.total_physical_reads/qs.execution_count AS [AvgPhysicalReads], qs.execution_count, \nqs.total_logical_reads,qs.total_elapsed_time, qs.total_elapsed_time/qs.execution_count AS [avg_elapsed_time],\nCASE WHEN CONVERT(nvarchar(max), qp.query_plan) LIKE N'%<MissingIndexes>%' THEN 1 ELSE 0 END AS [Has Missing Index],\nFORMAT(qs.last_execution_time, 'yyyy-MM-dd HH:mm:ss', 'en-US') AS [Last Execution Time], \nFORMAT(qs.cached_time, 'yyyy-MM-dd HH:mm:ss', 'en-US') AS [Plan Cached Time]\nFROM sys.procedures AS p WITH (NOLOCK)\nINNER JOIN sys.dm_exec_procedure_stats AS qs WITH (NOLOCK)\nON p.[object_id] = qs.[object_id]\nCROSS APPLY sys.dm_exec_query_plan(qs.plan_handle) AS qp\nWHERE qs.database_id = DB_ID()\nAND qs.total_physical_reads > 0\nORDER BY qs.total_physical_reads DESC, qs.total_logical_reads DESC OPTION (RECOMPILE);\n"
  },
  {
    "cell_type": "markdown",
    "source": "## SP Logical Writes\n\nTop Cached SPs By Total Logical Writes"
  },
  {
    "cell_type": "code",
    "source": "SELECT TOP(25) p.name AS [SP Name], qs.total_logical_writes AS [TotalLogicalWrites], \nqs.total_logical_writes/qs.execution_count AS [AvgLogicalWrites], qs.execution_count,\nISNULL(qs.execution_count/DATEDIFF(Minute, qs.cached_time, GETDATE()), 0) AS [Calls/Minute],\nqs.total_elapsed_time, qs.total_elapsed_time/qs.execution_count AS [avg_elapsed_time],\nCASE WHEN CONVERT(nvarchar(max), qp.query_plan) LIKE N'%<MissingIndexes>%' THEN 1 ELSE 0 END AS [Has Missing Index], \nFORMAT(qs.last_execution_time, 'yyyy-MM-dd HH:mm:ss', 'en-US') AS [Last Execution Time], \nFORMAT(qs.cached_time, 'yyyy-MM-dd HH:mm:ss', 'en-US') AS [Plan Cached Time]\nFROM sys.procedures AS p WITH (NOLOCK)\nINNER JOIN sys.dm_exec_procedure_stats AS qs WITH (NOLOCK)\nON p.[object_id] = qs.[object_id]\nCROSS APPLY sys.dm_exec_query_plan(qs.plan_handle) AS qp\nWHERE qs.database_id = DB_ID()\nAND qs.total_logical_writes > 0\nAND DATEDIFF(Minute, qs.cached_time, GETDATE()) > 0\nORDER BY qs.total_logical_writes DESC OPTION (RECOMPILE);\n"
  },
  {
    "cell_type": "markdown",
    "source": "## Top IO Statements\n\nLists the top statements by average input/output usage for the current database "
  },
  {
    "cell_type": "code",
    "source": "SELECT TOP(50) OBJECT_NAME(qt.objectid, dbid) AS [SP Name],\n(qs.total_logical_reads + qs.total_logical_writes) /qs.execution_count AS [Avg IO], qs.execution_count AS [Execution Count],\nSUBSTRING(qt.[text],qs.statement_start_offset/2, \n\t(CASE \n\t\tWHEN qs.statement_end_offset = -1 \n\t THEN LEN(CONVERT(nvarchar(max), qt.[text])) * 2 \n\t\tELSE qs.statement_end_offset \n\t END - qs.statement_start_offset)/2) AS [Query Text]\t\nFROM sys.dm_exec_query_stats AS qs WITH (NOLOCK)\nCROSS APPLY sys.dm_exec_sql_text(qs.sql_handle) AS qt\nWHERE qt.[dbid] = DB_ID()\nORDER BY [Avg IO] DESC OPTION (RECOMPILE);\n"
  },
  {
    "cell_type": "markdown",
    "source": "## Bad NC Indexes\n\nPossible Bad NC Indexes (writes > reads) "
  },
  {
    "cell_type": "code",
    "source": "SELECT SCHEMA_NAME(o.[schema_id]) AS [Schema Name], \nOBJECT_NAME(s.[object_id]) AS [Table Name],\ni.name AS [Index Name], i.index_id, \ni.is_disabled, i.is_hypothetical, i.has_filter, i.fill_factor,\ns.user_updates AS [Total Writes], s.user_seeks + s.user_scans + s.user_lookups AS [Total Reads],\ns.user_updates - (s.user_seeks + s.user_scans + s.user_lookups) AS [Difference]\nFROM sys.dm_db_index_usage_stats AS s WITH (NOLOCK)\nINNER JOIN sys.indexes AS i WITH (NOLOCK)\nON s.[object_id] = i.[object_id]\nAND i.index_id = s.index_id\nINNER JOIN sys.objects AS o WITH (NOLOCK)\nON i.[object_id] = o.[object_id]\nWHERE OBJECTPROPERTY(s.[object_id],'IsUserTable') = 1\nAND s.database_id = DB_ID()\nAND s.user_updates > (s.user_seeks + s.user_scans + s.user_lookups)\nAND i.index_id > 1 AND i.[type_desc] = N'NONCLUSTERED'\nAND i.is_primary_key = 0 AND i.is_unique_constraint = 0 AND i.is_unique = 0\nORDER BY [Difference] DESC, [Total Writes] DESC, [Total Reads] ASC OPTION (RECOMPILE);\n"
  },
  {
    "cell_type": "markdown",
    "source": "## Missing Indexes\n\nMissing Indexes for current database by Index Advantage "
  },
  {
    "cell_type": "code",
    "source": "SELECT DISTINCT CONVERT(decimal(18,2), migs.user_seeks * migs.avg_total_user_cost * (migs.avg_user_impact * 0.01)) AS [index_advantage], \nmigs.last_user_seek, mid.[statement] AS [Database.Schema.Table],\nmid.equality_columns, mid.inequality_columns, mid.included_columns,\nmigs.user_seeks, migs.avg_total_user_cost, migs.avg_user_impact,\nOBJECT_NAME(mid.[object_id]) AS [Table Name], p.rows AS [Table Rows]\nFROM sys.dm_db_missing_index_group_stats AS migs WITH (NOLOCK)\nINNER JOIN sys.dm_db_missing_index_groups AS mig WITH (NOLOCK)\nON migs.group_handle = mig.index_group_handle\nINNER JOIN sys.dm_db_missing_index_details AS mid WITH (NOLOCK)\nON mig.index_handle = mid.index_handle\nINNER JOIN sys.partitions AS p WITH (NOLOCK)\nON p.[object_id] = mid.[object_id]\nWHERE mid.database_id = DB_ID()\nAND p.index_id < 2 \nORDER BY index_advantage DESC OPTION (RECOMPILE);\n"
  },
  {
    "cell_type": "markdown",
    "source": "## Missing Index Warnings\n\nFind missing index warnings for cached plans in the current database "
  },
  {
    "cell_type": "code",
    "source": "SELECT TOP(25) OBJECT_NAME(objectid) AS [ObjectName], \n               cp.objtype, cp.usecounts, cp.size_in_bytes, qp.query_plan\nFROM sys.dm_exec_cached_plans AS cp WITH (NOLOCK)\nCROSS APPLY sys.dm_exec_query_plan(cp.plan_handle) AS qp\nWHERE CAST(query_plan AS NVARCHAR(MAX)) LIKE N'%MissingIndex%'\nAND dbid = DB_ID()\nORDER BY cp.usecounts DESC OPTION (RECOMPILE);\n"
  },
  {
    "cell_type": "markdown",
    "source": "## Buffer Usage\n\nBreaks down buffers used by current database by object (table, index) in the buffer cache "
  },
  {
    "cell_type": "code",
    "source": "SELECT SCHEMA_NAME(o.Schema_ID) AS [Schema Name],\nOBJECT_NAME(p.[object_id]) AS [Object Name], p.index_id, \nCAST(COUNT(*)/128.0 AS DECIMAL(10, 2)) AS [Buffer size(MB)],  \nCOUNT(*) AS [BufferCount], p.[Rows] AS [Row Count],\np.data_compression_desc AS [Compression Type]\nFROM sys.allocation_units AS a WITH (NOLOCK)\nINNER JOIN sys.dm_os_buffer_descriptors AS b WITH (NOLOCK)\nON a.allocation_unit_id = b.allocation_unit_id\nINNER JOIN sys.partitions AS p WITH (NOLOCK)\nON a.container_id = p.hobt_id\nINNER JOIN sys.objects AS o WITH (NOLOCK)\nON p.object_id = o.object_id\nWHERE b.database_id = CONVERT(int, DB_ID())\nAND p.[object_id] > 100\nAND OBJECT_NAME(p.[object_id]) NOT LIKE N'plan_%'\nAND OBJECT_NAME(p.[object_id]) NOT LIKE N'sys%'\nAND OBJECT_NAME(p.[object_id]) NOT LIKE N'xml_index_nodes%'\nGROUP BY o.Schema_ID, p.[object_id], p.index_id, p.data_compression_desc, p.[Rows]\nORDER BY [BufferCount] DESC OPTION (RECOMPILE);\n"
  },
  {
    "cell_type": "markdown",
    "source": "## Table Sizes\n\nGet Table names, row counts, and compression status for clustered index or heap "
  },
  {
    "cell_type": "code",
    "source": "SELECT SCHEMA_NAME(o.Schema_ID) AS [Schema Name], OBJECT_NAME(p.object_id) AS [ObjectName], \nSUM(p.Rows) AS [RowCount], p.data_compression_desc AS [Compression Type]\nFROM sys.partitions AS p WITH (NOLOCK)\nINNER JOIN sys.objects AS o WITH (NOLOCK)\nON p.object_id = o.object_id\nWHERE index_id < 2 --ignore the partitions from the non-clustered index if any\nAND OBJECT_NAME(p.object_id) NOT LIKE N'sys%'\nAND OBJECT_NAME(p.object_id) NOT LIKE N'spt_%'\nAND OBJECT_NAME(p.object_id) NOT LIKE N'queue_%' \nAND OBJECT_NAME(p.object_id) NOT LIKE N'filestream_tombstone%' \nAND OBJECT_NAME(p.object_id) NOT LIKE N'fulltext%'\nAND OBJECT_NAME(p.object_id) NOT LIKE N'ifts_comp_fragment%'\nAND OBJECT_NAME(p.object_id) NOT LIKE N'filetable_updates%'\nAND OBJECT_NAME(p.object_id) NOT LIKE N'xml_index_nodes%'\nAND OBJECT_NAME(p.object_id) NOT LIKE N'sqlagent_job%'\nAND OBJECT_NAME(p.object_id) NOT LIKE N'plan_persist%'\nGROUP BY  SCHEMA_NAME(o.Schema_ID), p.object_id, data_compression_desc\nORDER BY SUM(p.Rows) DESC OPTION (RECOMPILE);\n"
  },
  {
    "cell_type": "markdown",
    "source": "## Table Properties\n\nGet some key table properties"
  },
  {
    "cell_type": "code",
    "source": "SELECT OBJECT_NAME(t.[object_id]) AS [ObjectName], p.[rows] AS [Table Rows], p.index_id, \n       p.data_compression_desc AS [Index Data Compression],\n       t.create_date, t.lock_on_bulk_load, t.is_replicated, t.has_replication_filter, \n       t.is_tracked_by_cdc, t.lock_escalation_desc, t.is_filetable, \n\t   t.is_memory_optimized, t.durability_desc, \n\t   t.temporal_type_desc, t.is_remote_data_archive_enabled, t.is_external -- new for SQL Server 2016\nFROM sys.tables AS t WITH (NOLOCK)\nINNER JOIN sys.partitions AS p WITH (NOLOCK)\nON t.[object_id] = p.[object_id]\nWHERE OBJECT_NAME(t.[object_id]) NOT LIKE N'sys%'\nORDER BY OBJECT_NAME(t.[object_id]), p.index_id OPTION (RECOMPILE);\n"
  },
  {
    "cell_type": "markdown",
    "source": "## Statistics Update\n\nWhen were Statistics last updated on all indexes? "
  },
  {
    "cell_type": "code",
    "source": "SELECT SCHEMA_NAME(o.Schema_ID) + N'.' + o.[NAME] AS [Object Name], o.[type_desc] AS [Object Type],\n      i.[name] AS [Index Name], STATS_DATE(i.[object_id], i.index_id) AS [Statistics Date], \n      s.auto_created, s.no_recompute, s.user_created, s.is_incremental, s.is_temporary,\n\t  st.row_count, st.used_page_count\nFROM sys.objects AS o WITH (NOLOCK)\nINNER JOIN sys.indexes AS i WITH (NOLOCK)\nON o.[object_id] = i.[object_id]\nINNER JOIN sys.stats AS s WITH (NOLOCK)\nON i.[object_id] = s.[object_id] \nAND i.index_id = s.stats_id\nINNER JOIN sys.dm_db_partition_stats AS st WITH (NOLOCK)\nON o.[object_id] = st.[object_id]\nAND i.[index_id] = st.[index_id]\nWHERE o.[type] IN ('U', 'V')\nAND st.row_count > 0\nORDER BY STATS_DATE(i.[object_id], i.index_id) DESC OPTION (RECOMPILE);\n"
  },
  {
    "cell_type": "markdown",
    "source": "## Volatile Indexes\n\nLook at most frequently modified indexes and statistics"
  },
  {
    "cell_type": "code",
    "source": "SELECT o.[name] AS [Object Name], o.[object_id], o.[type_desc], s.[name] AS [Statistics Name], \n       s.stats_id, s.no_recompute, s.auto_created, s.is_incremental, s.is_temporary,\n\t   sp.modification_counter, sp.[rows], sp.rows_sampled, sp.last_updated\nFROM sys.objects AS o WITH (NOLOCK)\nINNER JOIN sys.stats AS s WITH (NOLOCK)\nON s.object_id = o.object_id\nCROSS APPLY sys.dm_db_stats_properties(s.object_id, s.stats_id) AS sp\nWHERE o.[type_desc] NOT IN (N'SYSTEM_TABLE', N'INTERNAL_TABLE')\nAND sp.modification_counter > 0\nORDER BY sp.modification_counter DESC, o.name OPTION (RECOMPILE);\n"
  },
  {
    "cell_type": "markdown",
    "source": "## Index Fragmentation\n\nGet fragmentation info for all indexes above a certain size in the current database "
  },
  {
    "cell_type": "code",
    "source": "SELECT DB_NAME(ps.database_id) AS [Database Name], SCHEMA_NAME(o.[schema_id]) AS [Schema Name],\nOBJECT_NAME(ps.OBJECT_ID) AS [Object Name], i.[name] AS [Index Name], ps.index_id, \nps.index_type_desc, ps.avg_fragmentation_in_percent, \nps.fragment_count, ps.page_count, i.fill_factor, i.has_filter, \ni.filter_definition, i.[allow_page_locks]\nFROM sys.dm_db_index_physical_stats(DB_ID(),NULL, NULL, NULL , N'LIMITED') AS ps\nINNER JOIN sys.indexes AS i WITH (NOLOCK)\nON ps.[object_id] = i.[object_id] \nAND ps.index_id = i.index_id\nINNER JOIN sys.objects AS o WITH (NOLOCK)\nON i.[object_id] = o.[object_id]\nWHERE ps.database_id = DB_ID()\nAND ps.page_count > 2500\nORDER BY ps.avg_fragmentation_in_percent DESC OPTION (RECOMPILE);\n"
  },
  {
    "cell_type": "markdown",
    "source": "## Overall Index Usage - Reads\n\nIndex Read/Write stats (all tables in current DB) ordered by Reads "
  },
  {
    "cell_type": "code",
    "source": "SELECT OBJECT_NAME(i.[object_id]) AS [ObjectName], i.[name] AS [IndexName], i.index_id, \n       s.user_seeks, s.user_scans, s.user_lookups,\n\t   s.user_seeks + s.user_scans + s.user_lookups AS [Total Reads], \n\t   s.user_updates AS [Writes],  \n\t   i.[type_desc] AS [Index Type], i.fill_factor AS [Fill Factor], i.has_filter, i.filter_definition, \n\t   s.last_user_scan, s.last_user_lookup, s.last_user_seek\nFROM sys.indexes AS i WITH (NOLOCK)\nLEFT OUTER JOIN sys.dm_db_index_usage_stats AS s WITH (NOLOCK)\nON i.[object_id] = s.[object_id]\nAND i.index_id = s.index_id\nAND s.database_id = DB_ID()\nWHERE OBJECTPROPERTY(i.[object_id],'IsUserTable') = 1\nORDER BY s.user_seeks + s.user_scans + s.user_lookups DESC OPTION (RECOMPILE); -- Order by reads\n"
  },
  {
    "cell_type": "markdown",
    "source": "## Overall Index Usage - Writes\n\nIndex Read/Write stats (all tables in current DB) ordered by Writes "
  },
  {
    "cell_type": "code",
    "source": "SELECT OBJECT_NAME(i.[object_id]) AS [ObjectName], i.[name] AS [IndexName], i.index_id,\n\t   s.user_updates AS [Writes], s.user_seeks + s.user_scans + s.user_lookups AS [Total Reads], \n\t   i.[type_desc] AS [Index Type], i.fill_factor AS [Fill Factor], i.has_filter, i.filter_definition,\n\t   s.last_system_update, s.last_user_update\nFROM sys.indexes AS i WITH (NOLOCK)\nLEFT OUTER JOIN sys.dm_db_index_usage_stats AS s WITH (NOLOCK)\nON i.[object_id] = s.[object_id]\nAND i.index_id = s.index_id\nAND s.database_id = DB_ID()\nWHERE OBJECTPROPERTY(i.[object_id],'IsUserTable') = 1\nORDER BY s.user_updates DESC OPTION (RECOMPILE);\t\t\t\t\t\t -- Order by writes\n"
  },
  {
    "cell_type": "markdown",
    "source": "## XTP Index Usage\n\nGet in-memory OLTP index usage"
  },
  {
    "cell_type": "code",
    "source": "SELECT OBJECT_NAME(i.[object_id]) AS [Object Name], i.index_id, i.[name] AS [Index Name],\n       i.[type_desc], xis.scans_started, xis.scans_retries, \n\t   xis.rows_touched, xis.rows_returned\nFROM sys.dm_db_xtp_index_stats AS xis WITH (NOLOCK)\nINNER JOIN sys.indexes AS i WITH (NOLOCK)\nON i.[object_id] = xis.[object_id] \nAND i.index_id = xis.index_id \nORDER BY OBJECT_NAME(i.[object_id]) OPTION (RECOMPILE);\n"
  },
  {
    "cell_type": "markdown",
    "source": "## Columnstore Index Physical Stat\n\nLook at Columnstore index physical statistics"
  },
  {
    "cell_type": "code",
    "source": "SELECT OBJECT_NAME(ps.object_id) AS [TableName],  \n\ti.[name] AS [IndexName], ps.index_id, ps.partition_number,\n\tps.delta_store_hobt_id, ps.state_desc, ps.total_rows, ps.size_in_bytes,\n\tps.trim_reason_desc, ps.generation, ps.transition_to_compressed_state_desc,\n\tps.has_vertipaq_optimization, ps.deleted_rows,\n\t100 * (ISNULL(ps.deleted_rows, 0))/ps.total_rows AS [Fragmentation]\nFROM sys.dm_db_column_store_row_group_physical_stats AS ps WITH (NOLOCK)\nINNER JOIN sys.indexes AS i WITH (NOLOCK)\nON ps.object_id = i.object_id \nAND ps.index_id = i.index_id\nORDER BY ps.object_id, ps.partition_number, ps.row_group_id OPTION (RECOMPILE);\n"
  },
  {
    "cell_type": "markdown",
    "source": "## Lock Waits\n\nGet lock waits for current database"
  },
  {
    "cell_type": "code",
    "source": "SELECT o.name AS [table_name], i.name AS [index_name], ios.index_id, ios.partition_number,\n\t\tSUM(ios.row_lock_wait_count) AS [total_row_lock_waits], \n\t\tSUM(ios.row_lock_wait_in_ms) AS [total_row_lock_wait_in_ms],\n\t\tSUM(ios.page_lock_wait_count) AS [total_page_lock_waits],\n\t\tSUM(ios.page_lock_wait_in_ms) AS [total_page_lock_wait_in_ms],\n\t\tSUM(ios.page_lock_wait_in_ms)+ SUM(row_lock_wait_in_ms) AS [total_lock_wait_in_ms]\nFROM sys.dm_db_index_operational_stats(DB_ID(), NULL, NULL, NULL) AS ios\nINNER JOIN sys.objects AS o WITH (NOLOCK)\nON ios.[object_id] = o.[object_id]\nINNER JOIN sys.indexes AS i WITH (NOLOCK)\nON ios.[object_id] = i.[object_id] \nAND ios.index_id = i.index_id\nWHERE o.[object_id] > 100\nGROUP BY o.name, i.name, ios.index_id, ios.partition_number\nHAVING SUM(ios.page_lock_wait_in_ms)+ SUM(row_lock_wait_in_ms) > 0\nORDER BY total_lock_wait_in_ms DESC OPTION (RECOMPILE);\n"
  },
  {
    "cell_type": "markdown",
    "source": "## UDF Statistics\n\nLook at UDF execution statistics"
  },
  {
    "cell_type": "code",
    "source": "SELECT OBJECT_NAME(object_id) AS [Function Name], execution_count,\n\t   total_worker_time, total_logical_reads, total_physical_reads, total_elapsed_time, \n\t   total_elapsed_time/execution_count AS [avg_elapsed_time],\n\t   FORMAT(cached_time, 'yyyy-MM-dd HH:mm:ss', 'en-US') AS [Plan Cached Time]\nFROM sys.dm_exec_function_stats WITH (NOLOCK) \nWHERE database_id = DB_ID()\nORDER BY total_worker_time DESC OPTION (RECOMPILE); \n"
  },
  {
    "cell_type": "markdown",
    "source": "## QueryStore Options\n\nGet QueryStore Options for this database"
  },
  {
    "cell_type": "code",
    "source": "SELECT actual_state_desc, desired_state_desc, [interval_length_minutes],\n       current_storage_size_mb, [max_storage_size_mb], \n\t   query_capture_mode_desc, size_based_cleanup_mode_desc\nFROM sys.database_query_store_options WITH (NOLOCK) OPTION (RECOMPILE);\n"
  },
  {
    "cell_type": "markdown",
    "source": "## Input Buffer\n\nGet input buffer information for the current database"
  },
  {
    "cell_type": "code",
    "source": "SELECT es.session_id, DB_NAME(es.database_id) AS [Database Name],\n       es.login_time, es.cpu_time, es.logical_reads, es.memory_usage,\n       es.[status], ib.event_info AS [Input Buffer]\nFROM sys.dm_exec_sessions AS es WITH (NOLOCK)\nCROSS APPLY sys.dm_exec_input_buffer(es.session_id, NULL) AS ib\nWHERE es.database_id = DB_ID()\nAND es.session_id > 50\nAND es.session_id <> @@SPID OPTION (RECOMPILE);\n"
  },
  {
    "cell_type": "markdown",
    "source": "## Recent Full Backups\n\nLook at recent Full backups for the current database"
  },
  {
    "cell_type": "code",
    "source": "SELECT TOP (30) bs.machine_name, bs.server_name, bs.database_name AS [Database Name], bs.recovery_model,\nCONVERT (BIGINT, bs.backup_size / 1048576 ) AS [Uncompressed Backup Size (MB)],\nCONVERT (BIGINT, bs.compressed_backup_size / 1048576 ) AS [Compressed Backup Size (MB)],\nCONVERT (NUMERIC (20,2), (CONVERT (FLOAT, bs.backup_size) /\nCONVERT (FLOAT, bs.compressed_backup_size))) AS [Compression Ratio], bs.has_backup_checksums, bs.is_copy_only, bs.encryptor_type,\nDATEDIFF (SECOND, bs.backup_start_date, bs.backup_finish_date) AS [Backup Elapsed Time (sec)],\nbs.backup_finish_date AS [Backup Finish Date], bmf.physical_device_name AS [Backup Location], bmf.physical_block_size\nFROM msdb.dbo.backupset AS bs WITH (NOLOCK)\nINNER JOIN msdb.dbo.backupmediafamily AS bmf WITH (NOLOCK)\nON bs.media_set_id = bmf.media_set_id  \nWHERE bs.database_name = DB_NAME(DB_ID())\nAND bs.[type] = 'D' -- Change to L if you want Log backups\nORDER BY bs.backup_finish_date DESC OPTION (RECOMPILE);\n"
  }
]
}}
