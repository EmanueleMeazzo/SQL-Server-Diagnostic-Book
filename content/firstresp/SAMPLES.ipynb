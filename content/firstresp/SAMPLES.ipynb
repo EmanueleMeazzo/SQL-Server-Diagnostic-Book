{
    "metadata": {
        "kernelspec": {
            "name": "SQL",
            "display_name": "SQL",
            "language": "sql"
        },
        "language_info": {
            "name": "sql",
            "version": ""
        }
    },
    "nbformat_minor": 2,
    "nbformat": 4,
    "cells": [
        {
            "cell_type": "markdown",
            "source": [
                "# First Responders Kit Examples"
            ],
            "metadata": {
                "azdata_cell_guid": "10757c22-4446-43b0-b537-795ad2231d1f"
            }
        },
        {
            "cell_type": "markdown",
            "source": [
                "## sp_Blitz <a href=\"https://www.brentozar.com/blitz/\">reference</a>\r\n",
                ""
            ],
            "metadata": {
                "azdata_cell_guid": "ecae72ff-f226-4015-8d87-7e3efabeed7f"
            }
        },
        {
            "cell_type": "code",
            "source": [
                "EXEC sp_Blitz @help = 1"
            ],
            "metadata": {
                "azdata_cell_guid": "c1e29a15-c3af-4d74-bdc7-d935e0553e88",
                "tags": [
                    "hide_input"
                ]
            },
            "outputs": [],
            "execution_count": 4
        },
        {
            "cell_type": "markdown",
            "source": [
                "Write Output to Table"
            ],
            "metadata": {
                "azdata_cell_guid": "32d6af08-e603-4ca4-9f01-e65e80f63a87"
            }
        },
        {
            "cell_type": "code",
            "source": [
                "sp_Blitz @OutputDatabaseName = 'DBAtools', @OutputSchemaName = 'dbo', @OutputTableName = 'BlitzResults';"
            ],
            "metadata": {
                "azdata_cell_guid": "4fc4ebba-2a0e-481f-b874-cf34a962b521",
                "tags": [
                    "hide_input"
                ]
            },
            "outputs": [],
            "execution_count": 0
        },
        {
            "cell_type": "markdown",
            "source": [
                "Skip Checks or Databases"
            ],
            "metadata": {
                "azdata_cell_guid": "2cb7ccfe-f8ec-4f3e-bd85-b808144fbb9d"
            }
        },
        {
            "cell_type": "code",
            "source": [
                "USE DBAtools;\n",
                "GO\n",
                "\n",
                "CREATE TABLE dbo.BlitzChecksToSkip (ServerName NVARCHAR(128), DatabaseName NVARCHAR(128), CheckID INT);\n",
                " \n",
                "/* This example skips all checks on the server named Skippy: */\n",
                "INSERT INTO dbo.BlitzChecksToSkip \n",
                "  (ServerName, DatabaseName, CheckID)\n",
                "  VALUES('Skippy', NULL, NULL);\n",
                "GO\n",
                " \n",
                "/* This example skips all checks on the database named HorribleDB: */\n",
                "INSERT INTO dbo.BlitzChecksToSkip \n",
                "  (ServerName, DatabaseName, CheckID)\n",
                "  VALUES(NULL, 'HorribleDB', NULL);\n",
                "GO\n",
                " \n",
                "/* This example skips check #42 on all servers, all databases: */\n",
                "INSERT INTO dbo.BlitzChecksToSkip \n",
                "  (ServerName, DatabaseName, CheckID)\n",
                "  VALUES(NULL, NULL, 42);\n",
                "GO\n",
                "\n",
                "INSERT INTO dbo.BlitzChecksToSkip (ServerName, DatabaseName, CheckID)\n",
                "VALUES (NULL, 'SalesDB', 50)\n",
                "EXEC sp_Blitz @SkipChecksDatabase = 'DBAtools', @SkipChecksSchema = 'dbo', @SkipChecksTable = 'BlitzChecksToSkip'"
            ],
            "metadata": {
                "azdata_cell_guid": "2d53edcf-ad68-4bee-b0f7-748e0e00663f",
                "tags": [
                    "hide_input"
                ]
            },
            "outputs": [],
            "execution_count": 0
        },
        {
            "cell_type": "markdown",
            "source": [
                "## sp_BlitzFirst <a href=\"https://www.brentozar.com/askbrent/\">reference</a>"
            ],
            "metadata": {
                "azdata_cell_guid": "d13e8e12-f9a0-4fcb-9f44-2ef340552c0e"
            }
        },
        {
            "cell_type": "code",
            "source": [
                "EXEC sp_BlitzFirst @help = 1"
            ],
            "metadata": {
                "azdata_cell_guid": "66afd2a8-613a-47fd-a6ee-3bd2c8634a92"
            },
            "outputs": [],
            "execution_count": 6
        },
        {
            "cell_type": "markdown",
            "source": [
                "Storing sp_BlitzFirst Results in a Table"
            ],
            "metadata": {
                "azdata_cell_guid": "0d41dca6-b12a-40ab-aae7-738303538805"
            }
        },
        {
            "cell_type": "code",
            "source": [
                "EXEC sp_BlitzFirst \r\n",
                "  @OutputDatabaseName = 'DBAtools', \r\n",
                "  @OutputSchemaName = 'dbo', \r\n",
                "  @OutputTableName = 'BlitzFirst',\r\n",
                "  @OutputTableNameFileStats = 'BlitzFirst_FileStats',\r\n",
                "  @OutputTableNamePerfmonStats = 'BlitzFirst_PerfmonStats',\r\n",
                "  @OutputTableNameWaitStats = 'BlitzFirst_WaitStats',\r\n",
                "  @OutputTableNameBlitzCache = 'BlitzCache'"
            ],
            "metadata": {
                "azdata_cell_guid": "d51ec4e6-e86a-49b3-b776-199f7a96deb8"
            },
            "outputs": [],
            "execution_count": 0
        },
        {
            "cell_type": "markdown",
            "source": [
                "## sp_AllNightLog <a href=\"https://www.brentozar.com/sp_allnightlog/\">reference</a>"
            ],
            "metadata": {
                "azdata_cell_guid": "78bcb5e5-1bb9-4e9c-9b6d-de9cae08fdd8"
            }
        },
        {
            "cell_type": "markdown",
            "source": [
                "## sp_BlitzCache <a href=\"https://www.brentozar.com/blitzcache/\">reference</a>"
            ],
            "metadata": {
                "azdata_cell_guid": "bbe37552-9e23-48b4-97f8-e9debe50fcba"
            }
        },
        {
            "cell_type": "code",
            "source": [
                "EXEC sp_BlitzCache @help = 1"
            ],
            "metadata": {
                "azdata_cell_guid": "8c176509-08b9-4251-bab0-e22457b2f17d"
            },
            "outputs": [],
            "execution_count": 3
        },
        {
            "cell_type": "markdown",
            "source": [
                "Sort and limit results"
            ],
            "metadata": {
                "azdata_cell_guid": "594b58d0-f5ff-4a55-91c8-c9e54f2059e2"
            }
        },
        {
            "cell_type": "code",
            "source": [
                "EXEC sp_BlitzCache @SortOrder = 'cpu', @Top = 3"
            ],
            "metadata": {
                "azdata_cell_guid": "b0c9f535-ed52-4bf3-82b9-90dd09f0aecf"
            },
            "outputs": [],
            "execution_count": 5
        },
        {
            "cell_type": "markdown",
            "source": [
                "## sp_BlitzIndex <a href=\"https://www.brentozar.com/blitzindex/\">reference</a>"
            ],
            "metadata": {
                "azdata_cell_guid": "b59d3ea8-fe66-4317-8448-8f91c748bb30"
            }
        },
        {
            "cell_type": "code",
            "source": [
                "EXEC sp_BlitzIndex @mode = 0 --(default) – basic diagnostics of urgent issues"
            ],
            "metadata": {
                "azdata_cell_guid": "721104d8-7fbb-452d-ba10-c637d1571fb0"
            },
            "outputs": [],
            "execution_count": 7
        },
        {
            "cell_type": "code",
            "source": [
                "EXEC sp_BlitzIndex @mode = 1 -- summarize database metrics"
            ],
            "metadata": {
                "azdata_cell_guid": "c76da906-8403-41d9-b9df-29b9dae2dc34"
            },
            "outputs": [],
            "execution_count": 0
        },
        {
            "cell_type": "code",
            "source": [
                "EXEC sp_BlitzIndex @mode = 2 -- index usage detail only"
            ],
            "metadata": {
                "azdata_cell_guid": "955ce1b4-02fd-4e1b-aa60-72b7e5cf0f50"
            },
            "outputs": [],
            "execution_count": 0
        },
        {
            "cell_type": "code",
            "source": [
                "EXEC sp_BlitzIndex @mode = 3 -- missing indexes only"
            ],
            "metadata": {
                "azdata_cell_guid": "3dd74bbd-32b8-48c6-8826-3874468053ef"
            },
            "outputs": [],
            "execution_count": 0
        },
        {
            "cell_type": "code",
            "source": [
                "EXEC sp_BlitzIndex @mode = 4 -- in-depth diagnostics, including low-priority issues and small objects"
            ],
            "metadata": {
                "azdata_cell_guid": "a67f7a25-69b8-42ab-b97d-35d6abfdd771"
            },
            "outputs": [],
            "execution_count": 0
        },
        {
            "cell_type": "markdown",
            "source": [
                "Analyze Specific Table"
            ],
            "metadata": {
                "azdata_cell_guid": "2f943948-9a46-4fea-90d8-9313467edfff"
            }
        },
        {
            "cell_type": "code",
            "source": [
                "EXEC sp_BlitzIndex @DatabaseName = 'yourDB', @SchemaName = 'dbo', @TableName = 'YourTable'"
            ],
            "metadata": {
                "azdata_cell_guid": "f282b2d3-bc9e-401a-a4db-95b5bbe7b2b2"
            },
            "outputs": [],
            "execution_count": 0
        },
        {
            "cell_type": "markdown",
            "source": [
                "## sp_BlitzQueryStore <a href=\"https://www.brentozar.com/first-aid/sp_blitzquerystore/\">reference</a>"
            ],
            "metadata": {
                "azdata_cell_guid": "5af5156d-f842-4b7d-8dcf-386b7961abd2"
            }
        },
        {
            "cell_type": "code",
            "source": [
                "--Debug\r\n",
                "EXEC sp_BlitzQueryStore @DatabaseName = 'StackOverflow', @Debug = 1 "
            ],
            "metadata": {
                "azdata_cell_guid": "7c761479-366a-44d5-8908-71280fbd810e"
            },
            "outputs": [],
            "execution_count": 0
        },
        {
            "cell_type": "code",
            "source": [
                " --Get the top 1\r\n",
                "EXEC sp_BlitzQueryStore @DatabaseName = 'StackOverflow', @Top = 1, @Debug = 1 "
            ],
            "metadata": {
                "azdata_cell_guid": "b67d8419-9d30-4a09-875d-20f3987eaf84"
            },
            "outputs": [],
            "execution_count": 0
        },
        {
            "cell_type": "code",
            "source": [
                "--Use a StartDate\r\n",
                "EXEC sp_BlitzQueryStore @DatabaseName = 'StackOverflow', @Top = 1, @StartDate = '20170527' "
            ],
            "metadata": {
                "azdata_cell_guid": "b0dfa65d-f9e3-4a0f-9acc-0dc25cfc2a03"
            },
            "outputs": [],
            "execution_count": 0
        },
        {
            "cell_type": "code",
            "source": [
                "--Use an EndDate\r\n",
                "EXEC sp_BlitzQueryStore @DatabaseName = 'StackOverflow', @Top = 1, @EndDate = '20170527' "
            ],
            "metadata": {
                "azdata_cell_guid": "484a01bf-869d-4500-be36-4efe2bea69df"
            },
            "outputs": [],
            "execution_count": 0
        },
        {
            "cell_type": "code",
            "source": [
                "--Use Both\r\n",
                "EXEC sp_BlitzQueryStore @DatabaseName = 'StackOverflow', @Top = 1, @StartDate = '20170526', @EndDate = '20170527' "
            ],
            "metadata": {
                "azdata_cell_guid": "f7cc18e2-8e85-4ed4-b66e-ca2ed67afeb0"
            },
            "outputs": [],
            "execution_count": 0
        },
        {
            "cell_type": "code",
            "source": [
                "--Set a minimum execution count\r\n",
                "EXEC sp_BlitzQueryStore @DatabaseName = 'StackOverflow', @Top = 1, @MinimumExecutionCount = 10 "
            ],
            "metadata": {
                "azdata_cell_guid": "e42bf34a-97c8-4eeb-b321-786d4e58c732"
            },
            "outputs": [],
            "execution_count": 0
        },
        {
            "cell_type": "code",
            "source": [
                "--Set a duration minimum\r\n",
                "EXEC sp_BlitzQueryStore @DatabaseName = 'StackOverflow', @Top = 1, @DurationFilter = 5 "
            ],
            "metadata": {
                "azdata_cell_guid": "782cf038-274a-4dd0-8cd9-6278d60fb404"
            },
            "outputs": [],
            "execution_count": 0
        },
        {
            "cell_type": "code",
            "source": [
                "--Look for a stored procedure name (that doesn't exist!)\r\n",
                "EXEC sp_BlitzQueryStore @DatabaseName = 'StackOverflow', @Top = 1, @StoredProcName = 'blah' "
            ],
            "metadata": {
                "azdata_cell_guid": "1a23d113-1ed9-47fe-9cba-19833026eff9"
            },
            "outputs": [],
            "execution_count": 0
        },
        {
            "cell_type": "code",
            "source": [
                "--Look for a stored procedure name that does (at least On My Computer®)\r\n",
                "EXEC sp_BlitzQueryStore @DatabaseName = 'StackOverflow', @Top = 1, @StoredProcName = 'UserReportExtended' "
            ],
            "metadata": {
                "azdata_cell_guid": "8a1073ed-d5b2-4dcd-b2c5-e7a2ab7f2861",
                "tags": []
            },
            "outputs": [],
            "execution_count": 0
        },
        {
            "cell_type": "code",
            "source": [
                "--Look for failed queries\r\n",
                "EXEC sp_BlitzQueryStore @DatabaseName = 'StackOverflow', @Top = 1, @Failed = 1"
            ],
            "metadata": {
                "azdata_cell_guid": "4e301ef8-3d78-4cbf-9cdb-01bd12345ce6"
            },
            "outputs": [],
            "execution_count": 0
        },
        {
            "cell_type": "markdown",
            "source": [
                "## sp_BlitzWho <a href=\"https://www.brentozar.com/first-aid/sp_blitzwho/\">reference</a>"
            ],
            "metadata": {
                "azdata_cell_guid": "571f1cbd-1e4c-4e2a-aa2b-3de41399bc04"
            }
        }
    ]
}